{
 "metadata": {
  "name": "sympy"
 },
 "nbformat": 3,
 "nbformat_minor": 0,
 "worksheets": [
  {
   "cells": [
    {
     "cell_type": "markdown",
     "metadata": {},
     "source": [
      "The output of `sympy` can be formatted to display nicely in IPython notebook:"
     ]
    },
    {
     "cell_type": "code",
     "collapsed": false,
     "input": [
      "import sympy as s\n",
      "%load_ext sympy.interactive.ipythonprinting"
     ],
     "language": "python",
     "metadata": {},
     "outputs": []
    },
    {
     "cell_type": "markdown",
     "metadata": {},
     "source": [
      "One can make symbols and functions as such:"
     ]
    },
    {
     "cell_type": "code",
     "collapsed": false,
     "input": [
      "x,y = s.symbols(\"x y\")\n",
      "\n",
      "two_variable_fn = (x ** y) / (x - y)\n",
      "two_variable_fn"
     ],
     "language": "python",
     "metadata": {},
     "outputs": []
    },
    {
     "cell_type": "markdown",
     "metadata": {},
     "source": [
      "You can substitute values in for any of these variables:"
     ]
    },
    {
     "cell_type": "code",
     "collapsed": false,
     "input": [
      "fn = two_variable_fn.subs(dict(y=2))\n",
      "fn"
     ],
     "language": "python",
     "metadata": {},
     "outputs": []
    },
    {
     "cell_type": "markdown",
     "metadata": {},
     "source": [
      "The derivative of this function can easily be taken:"
     ]
    },
    {
     "cell_type": "code",
     "collapsed": false,
     "input": [
      "fn.diff()"
     ],
     "language": "python",
     "metadata": {},
     "outputs": []
    },
    {
     "cell_type": "markdown",
     "metadata": {},
     "source": [
      "We can also plot the function and its derivative:"
     ]
    },
    {
     "cell_type": "code",
     "collapsed": false,
     "input": [
      "from sympy.plotting import plot as s_plot\n",
      "\n",
      "c1 = (0.2,0.8,0.5)\n",
      "fn_plot = s_plot(fn, (x, 2.4, 10), \n",
      "                 line_color=c1,\n",
      "                 title=fn,\n",
      "                 show=True)"
     ],
     "language": "python",
     "metadata": {},
     "outputs": []
    },
    {
     "cell_type": "code",
     "collapsed": false,
     "input": [
      "c2 = (0.8,0.2,0)\n",
      "dfn_plot = s_plot(fn.diff(), (x, 2.7, 10), \n",
      "                  line_color=c2, \n",
      "                  title=fn.diff(),\n",
      "                  show=True)"
     ],
     "language": "python",
     "metadata": {},
     "outputs": []
    },
    {
     "cell_type": "markdown",
     "metadata": {},
     "source": [
      "We can even plot the original two_variable_fn, however, we need to be careful about dividing by zero..."
     ]
    },
    {
     "cell_type": "code",
     "collapsed": false,
     "input": [
      "from sympy.plotting import plot3d as s_plot3d\n",
      "\n",
      "two_variable_fn_plot = s_plot3d(two_variable_fn, (x, 3, 4), (y, 9, 10), \n",
      "                                line_color=c1,\n",
      "                                title=two_variable_fn,\n",
      "                                show=True)"
     ],
     "language": "python",
     "metadata": {},
     "outputs": []
    },
    {
     "cell_type": "markdown",
     "metadata": {},
     "source": [
      "However, this function is a bit more interesting:"
     ]
    },
    {
     "cell_type": "code",
     "collapsed": false,
     "input": [
      "qubit_potential = 2.7 - 2 * s.cos(x)*s.cos(y) - 0.7 * s.cos(s.pi - 2*x)\n",
      "qubit_potential"
     ],
     "language": "python",
     "metadata": {},
     "outputs": []
    },
    {
     "cell_type": "code",
     "collapsed": false,
     "input": [
      "qubit_plot = s_plot3d(qubit_potential, (x, 0, 2*s.pi), (y, 0, 2*s.pi), \n",
      "                      line_color=c1,\n",
      "                      title=qubit_potential,\n",
      "                      show=True)"
     ],
     "language": "python",
     "metadata": {},
     "outputs": []
    }
   ],
   "metadata": {}
  }
 ]
}