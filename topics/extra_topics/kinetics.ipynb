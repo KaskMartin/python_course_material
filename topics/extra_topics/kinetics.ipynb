{
 "metadata": {
  "name": "kinetics"
 },
 "nbformat": 3,
 "nbformat_minor": 0,
 "worksheets": [
  {
   "cells": [
    {
     "cell_type": "markdown",
     "metadata": {},
     "source": [
      "#### Preliminary note:\n",
      "\n",
      "Instead of using `--pylab inline` to plot (which produces raster graphics), \n",
      "I prefer to make `svg` versions, show these and save the plot in another format.  \n",
      "\n",
      "A `tools` module has been added and includes a `show` function.  The `show` function allows for simultaneous viewing as a vector graphic image and saving the image in another format.\n",
      "\n",
      "To edit `show` within the `tools` module (using an external editor),\n",
      "the `autoreload` IPython extension is required.  \n",
      "\n",
      "The `autoreload` extension reloads external modules each time you use them."
     ]
    },
    {
     "cell_type": "code",
     "collapsed": false,
     "input": [
      "import sys\n",
      "sys.path.append('../code/')\n",
      "from tools import show\n",
      "\n",
      "%load_ext autoreload\n",
      "%autoreload 2"
     ],
     "language": "python",
     "metadata": {},
     "outputs": []
    },
    {
     "cell_type": "code",
     "collapsed": false,
     "input": [
      "help(show)"
     ],
     "language": "python",
     "metadata": {},
     "outputs": []
    },
    {
     "cell_type": "markdown",
     "metadata": {},
     "source": [
      "## Kinetic equation solving\n",
      "\n",
      "Let's solve the concentration of species in the following chemical scheme:\n",
      "\n",
      "$$A \\underset{k_{1r}}{\\overset{k_{1f}}{\\Longleftrightarrow}} B$$\n",
      "\n",
      "$$B \\underset{k_{2r}}{\\overset{k_{2f}}{\\Longleftrightarrow}} C$$\n",
      "\n",
      "$$A \\underset{k_{3r}}{\\overset{k_{3f}}{\\Longleftrightarrow}} C$$\n",
      "\n",
      "\n",
      "### Differential equations:\n",
      "\n",
      "\n",
      "$$\\frac{d[A]}{dt} = k_{1r} B_o + k_{3r} C_o - (k_{1f} + k_{3f}) A_o$$\n",
      "\n",
      "$$\\frac{d[B]}{dt} = k_{1f} A_o + k_{2r} C_o - (k_{2f} + k_{1r}) B_o$$\n",
      "\n",
      "$$\\frac{d[C]}{dt} = k_{3f} A_o + k_{2f} B_o - (k_{3r} + k_{2r}) C_o$$\n",
      "\n",
      "### Implimentation in Python\n",
      "\n",
      "The right hand side of the differential equations need to be composed as a \n",
      "Python function to work with the `odeint` solver within `scipy` (see below).\n",
      "\n",
      "Within the `odeint` solver, our function will be used to compute the change in each chemical species over small time steps.  Note that our parameters do not depend on time but this value needs to be passed to `equation_derivatives`."
     ]
    },
    {
     "cell_type": "code",
     "collapsed": false,
     "input": [
      "import numpy\n",
      " \n",
      "def equation_derivatives(y, time):\n",
      "    k1f = 9.0e2\n",
      "    k1r = 9.0\n",
      "    k2f = 1.0e2\n",
      "    k2r = 1.0\n",
      "    k3f = 3.0e1\n",
      "    k3r = 3.0\n",
      "    return numpy.array([ k1r*y[1] + k3r*y[2] -(k1f + k3f)*y[0],\n",
      "                         k1f*y[0] + k2r*y[2] -(k2f + k1r)*y[1],\n",
      "                         k3f*y[0] + k2f*y[1] -(k3r + k2r)*y[2],\n",
      "                   ]) "
     ],
     "language": "python",
     "metadata": {},
     "outputs": []
    },
    {
     "cell_type": "markdown",
     "metadata": {},
     "source": [
      "### Solving the differential equations\n",
      "\n",
      "The `odeint` solver provided by Scipy uses a robust solving \n",
      "algorythm.  As a minimum you need to supply a function (`equation_derivatives`), \n",
      "the initial concentrations, and a list of time points the solver will solve for.\n",
      "\n",
      "The time list can be made using a step size (`numpy.arange`) \n",
      "or by specifying the start and stop times and the number of points required (`numpy.linspace`).  You can also combine multiple lists with different spacing \n",
      "by concatenating numpy array objects."
     ]
    },
    {
     "cell_type": "code",
     "collapsed": false,
     "input": [
      "from scipy.integrate import odeint\n",
      "\n",
      "a0 = 1.0\n",
      "b0 = 0.5\n",
      "c0 = 0\n",
      "  \n",
      "# One option...\n",
      "step = 0.0001\n",
      "time_points = numpy.arange(0, 0.06, step)\n",
      "\n",
      "# Another option... (comment out these lines to use first option)\n",
      "N_points_start = 100\n",
      "N_points_end = 200\n",
      "join_time = 0.002\n",
      "time_points = numpy.concatenate((numpy.linspace(0, join_time, N_points_start),\n",
      "                                numpy.linspace(join_time, 0.06, N_points_end),\n",
      "                                ))\n",
      "    \n",
      "scipy_solution = odeint(equation_derivatives, (a0, b0, c0), time_points)"
     ],
     "language": "python",
     "metadata": {},
     "outputs": []
    },
    {
     "cell_type": "markdown",
     "metadata": {},
     "source": [
      "The solution is given as a `numpy.array` object.  The shape of the solution is found using:  "
     ]
    },
    {
     "cell_type": "code",
     "collapsed": false,
     "input": [
      "scipy_solution.shape"
     ],
     "language": "python",
     "metadata": {},
     "outputs": []
    },
    {
     "cell_type": "markdown",
     "metadata": {},
     "source": [
      "The first dimension is time and the concentrations of each chemical species are provided at each time point.\n",
      "\n",
      "The following image illustrates how to slice out data from `numpy.array` objects:\n",
      "<img src=\"https://rawgithub.com/schryer/python_course_material/master/images/numpy_indexing.png\" width=\"600\">"
     ]
    },
    {
     "cell_type": "markdown",
     "metadata": {},
     "source": [
      "We can slice out our three one dimensional solution arrays as follows:"
     ]
    },
    {
     "cell_type": "code",
     "collapsed": false,
     "input": [
      "A_soln = scipy_solution[:, 0]\n",
      "B_soln = scipy_solution[:, 1]\n",
      "C_soln = scipy_solution[:, 2]\n",
      "A_soln.shape, B_soln.shape, C_soln.shape"
     ],
     "language": "python",
     "metadata": {},
     "outputs": []
    },
    {
     "cell_type": "markdown",
     "metadata": {},
     "source": [
      "### Plotting the solution is accomplished using `matplotlib`"
     ]
    },
    {
     "cell_type": "code",
     "collapsed": false,
     "input": [
      "import matplotlib.pyplot as plt\n",
      "\n",
      "fig = plt.figure(figsize=(6,4))\n",
      "\n",
      "plt.plot(time_points, A_soln, '.', label='A')\n",
      "plt.plot(time_points, B_soln, '.', label='B')\n",
      "plt.plot(time_points, C_soln, '.', label='C')\n",
      "plt.legend()\n",
      "\n",
      "show(fig, filename='kinetics.pdf')"
     ],
     "language": "python",
     "metadata": {},
     "outputs": []
    },
    {
     "cell_type": "markdown",
     "metadata": {},
     "source": [
      "### Follow up work\n",
      "\n",
      "Together we will improve this plot by adding a title and axis text.\n",
      "\n",
      "Using the same solution array we will also change the limits to be displayed. "
     ]
    }
   ],
   "metadata": {}
  }
 ]
}