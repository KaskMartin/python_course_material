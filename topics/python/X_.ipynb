{
 "metadata": {
  "name": "",
  "signature": "sha256:d09a1a27d664635c7421574008b36b91d51ca7c2340ea3a71b63191a2a91b1c9"
 },
 "nbformat": 3,
 "nbformat_minor": 0,
 "worksheets": [
  {
   "cells": [
    {
     "cell_type": "markdown",
     "metadata": {},
     "source": [
      "### More containers\n",
      "\n",
      "In addition to strings, lists and *tuples* are also containers:\n",
      "\n",
      "Lists are made with square brackets, or the `list` function\n",
      "and can hold arbitrary objects (although this is often not good practice):"
     ]
    },
    {
     "cell_type": "code",
     "collapsed": false,
     "input": [
      "[1,2,'g', 45.2, 5j, isinstance]\n"
     ],
     "language": "python",
     "metadata": {},
     "outputs": []
    },
    {
     "cell_type": "markdown",
     "metadata": {},
     "source": [
      "Tuples can be thought of as lists whose value cannot change after it is created.  \n",
      "\n",
      "Tuples are *immutable*.\n",
      "\n",
      "They can also hold arbitrary objects (designated by round brackets):"
     ]
    },
    {
     "cell_type": "code",
     "collapsed": false,
     "input": [
      "(1,2,'g', 45.2, 5j, isinstance)"
     ],
     "language": "python",
     "metadata": {},
     "outputs": []
    },
    {
     "cell_type": "markdown",
     "metadata": {},
     "source": [
      "We have already constructed tuples using Python \n",
      "\n",
      "Note that you don't **need** brackets to make tuples, but they often make the code easier to read."
     ]
    },
    {
     "cell_type": "code",
     "collapsed": false,
     "input": [
      "1, 2"
     ],
     "language": "python",
     "metadata": {},
     "outputs": []
    },
    {
     "cell_type": "markdown",
     "metadata": {},
     "source": [
      "Objects can be *packed* into tuples:"
     ]
    },
    {
     "cell_type": "code",
     "collapsed": false,
     "input": [
      "a = 60, 60, 24, 7, 52\n",
      "a"
     ],
     "language": "python",
     "metadata": {},
     "outputs": []
    },
    {
     "cell_type": "markdown",
     "metadata": {},
     "source": [
      "Or *unpacked* from tuples:"
     ]
    },
    {
     "cell_type": "code",
     "collapsed": false,
     "input": [
      "seconds, minutes, hours, days, weeks = a\n",
      "weeks, type(a)"
     ],
     "language": "python",
     "metadata": {},
     "outputs": []
    },
    {
     "cell_type": "markdown",
     "metadata": {},
     "source": [
      "Converting between lists and tuples is easy:"
     ]
    },
    {
     "cell_type": "code",
     "collapsed": false,
     "input": [
      "a = [1,2,3]\n",
      "b = tuple(a)\n",
      "print(a)\n",
      "print(b)\n",
      "c = (1,2,3)\n",
      "d = list(c)\n",
      "print(c)\n",
      "print(d)\n",
      "a == b, c == d, b == c, a == d"
     ],
     "language": "python",
     "metadata": {},
     "outputs": []
    },
    {
     "cell_type": "markdown",
     "metadata": {},
     "source": [
      "List and tuples can be arbitrarily nested:"
     ]
    },
    {
     "cell_type": "code",
     "collapsed": false,
     "input": [
      "nested_list = [1, [2, 2, [3, 3, 3 ,[4, 4, 4, 4, [5, 5, 5, 5, 5]]]]]\n",
      "\n",
      "nested_list"
     ],
     "language": "python",
     "metadata": {},
     "outputs": []
    },
    {
     "cell_type": "markdown",
     "metadata": {},
     "source": [
      "Lists and tuples can be sorted, but tuples are converted to lists during the operation:"
     ]
    },
    {
     "cell_type": "code",
     "collapsed": false,
     "input": [
      "a = 2,5,2,8,8,3,2,1,66,876,2,1\n",
      "b = sorted(a)\n",
      "print(a)\n",
      "print(b)"
     ],
     "language": "python",
     "metadata": {},
     "outputs": []
    },
    {
     "cell_type": "markdown",
     "metadata": {},
     "source": [
      "### Useful utility functions\n",
      "\n",
      "We have already seen `help` and `isinstance`, but there are other useful functions \n",
      "that are commonly used.\n",
      "\n",
      "`dir` lists all of the names in the current *namespace*."
     ]
    },
    {
     "cell_type": "code",
     "collapsed": false,
     "input": [
      "print(dir())"
     ],
     "language": "python",
     "metadata": {},
     "outputs": []
    },
    {
     "cell_type": "markdown",
     "metadata": {},
     "source": [
      "The module `types` contains a number of type name definitions can be used to test if variables are of certain types.  \n",
      "The `dir` function can be used to list the objects in a module:\n",
      "(although hitting TAB after `types.` is easier)."
     ]
    },
    {
     "cell_type": "code",
     "collapsed": false,
     "input": [
      "import types\n",
      "print(dir(types))"
     ],
     "language": "python",
     "metadata": {},
     "outputs": []
    },
    {
     "cell_type": "markdown",
     "metadata": {},
     "source": [
      "The memory location of every object is found using the `id` function:"
     ]
    },
    {
     "cell_type": "code",
     "collapsed": false,
     "input": [
      "x = 'x'\n",
      "id(x), id('x')"
     ],
     "language": "python",
     "metadata": {},
     "outputs": []
    },
    {
     "cell_type": "markdown",
     "metadata": {},
     "source": [
      "The amount of memory (in bytes) used by every object is found using `sys.getsizeof`"
     ]
    },
    {
     "cell_type": "code",
     "collapsed": false,
     "input": [
      "import sys\n",
      "sys.getsizeof(x)"
     ],
     "language": "python",
     "metadata": {},
     "outputs": []
    },
    {
     "cell_type": "markdown",
     "metadata": {},
     "source": [
      "You can exit your Python program using exit()"
     ]
    },
    {
     "cell_type": "code",
     "collapsed": false,
     "input": [
      "exit()"
     ],
     "language": "python",
     "metadata": {},
     "outputs": []
    },
    {
     "cell_type": "markdown",
     "metadata": {},
     "source": [
      "## Operators and comparisons\n",
      "\n",
      "Most operators and comparisons in Python work as one would expect\n",
      "but often do more than you may expect.\n",
      "\n",
      "Round brackets can be used to specify the order of operations.\n",
      "\n",
      "Adding numbers:"
     ]
    },
    {
     "cell_type": "code",
     "collapsed": false,
     "input": [
      "365 + 0.25"
     ],
     "language": "python",
     "metadata": {},
     "outputs": []
    },
    {
     "cell_type": "markdown",
     "metadata": {},
     "source": [
      "Adding strings:"
     ]
    },
    {
     "cell_type": "code",
     "collapsed": false,
     "input": [
      "'one' + ' ' + 'two'"
     ],
     "language": "python",
     "metadata": {},
     "outputs": []
    },
    {
     "cell_type": "markdown",
     "metadata": {},
     "source": [
      "Adding lists:"
     ]
    },
    {
     "cell_type": "code",
     "collapsed": false,
     "input": [
      "[1,2,3] + [3,2,1]"
     ],
     "language": "python",
     "metadata": {},
     "outputs": []
    },
    {
     "cell_type": "markdown",
     "metadata": {},
     "source": [
      "Multiply numbers:"
     ]
    },
    {
     "cell_type": "code",
     "collapsed": false,
     "input": [
      "7 * 52, 7.024038461 * 52"
     ],
     "language": "python",
     "metadata": {},
     "outputs": []
    },
    {
     "cell_type": "markdown",
     "metadata": {},
     "source": [
      "Or strings:"
     ]
    },
    {
     "cell_type": "code",
     "collapsed": false,
     "input": [
      "one = 'one'\n",
      "space = ' '\n",
      "(one + space) * 365"
     ],
     "language": "python",
     "metadata": {},
     "outputs": []
    },
    {
     "cell_type": "markdown",
     "metadata": {},
     "source": [
      "Or lists:"
     ]
    },
    {
     "cell_type": "code",
     "collapsed": false,
     "input": [
      "a = [1, 2, 3] * 123\n",
      "print(a)"
     ],
     "language": "python",
     "metadata": {},
     "outputs": []
    },
    {
     "cell_type": "markdown",
     "metadata": {},
     "source": [
      "The equivalence operator (`==`) is not the same as the assignment operator (`=`):"
     ]
    },
    {
     "cell_type": "code",
     "collapsed": false,
     "input": [
      "a, b = 1, 2\n",
      "c, d = 'c', 'd'\n",
      "(a == b, a, b), (c == d, c, d)"
     ],
     "language": "python",
     "metadata": {},
     "outputs": []
    },
    {
     "cell_type": "markdown",
     "metadata": {},
     "source": [
      "The equivalence operator (`==`) is also not the same as the `is` keyword.  \n",
      "\n",
      "`is` means id(a) `==` id(b) "
     ]
    },
    {
     "cell_type": "code",
     "collapsed": false,
     "input": [
      "'a' * 365 is 'a' * 365, 'a' * 365 == 'a' * 365"
     ],
     "language": "python",
     "metadata": {},
     "outputs": []
    },
    {
     "cell_type": "markdown",
     "metadata": {},
     "source": [
      "Two types of division exist (and both work with floats):"
     ]
    },
    {
     "cell_type": "code",
     "collapsed": false,
     "input": [
      "3.0 // 2.0, 3.0 / 2.0"
     ],
     "language": "python",
     "metadata": {},
     "outputs": []
    },
    {
     "cell_type": "markdown",
     "metadata": {},
     "source": [
      "**However**, when two integers are divided, integer division is implied:"
     ]
    },
    {
     "cell_type": "code",
     "collapsed": false,
     "input": [
      "3 / 2, 3.0 / 2"
     ],
     "language": "python",
     "metadata": {},
     "outputs": []
    },
    {
     "cell_type": "markdown",
     "metadata": {},
     "source": [
      "This behaviour has been changed in Python 3, and can be used in Python 2:\n",
      "\n",
      "(Note that Python allows for time travel)."
     ]
    },
    {
     "cell_type": "code",
     "collapsed": false,
     "input": [
      "from __future__ import division\n",
      "3 / 2"
     ],
     "language": "python",
     "metadata": {},
     "outputs": []
    },
    {
     "cell_type": "markdown",
     "metadata": {},
     "source": [
      "The power operator is `**` not `^`"
     ]
    },
    {
     "cell_type": "code",
     "collapsed": false,
     "input": [
      "2 ** 2j"
     ],
     "language": "python",
     "metadata": {},
     "outputs": []
    },
    {
     "cell_type": "markdown",
     "metadata": {},
     "source": [
      "The `^` operator is bitwise XOR (which we will probably not use!)"
     ]
    },
    {
     "cell_type": "code",
     "collapsed": false,
     "input": [
      "8^3"
     ],
     "language": "python",
     "metadata": {},
     "outputs": []
    },
    {
     "cell_type": "markdown",
     "metadata": {},
     "source": [
      "`1000` == 8 (binary)\n",
      "\n",
      "`0011` == 3 (binary)\n",
      "\n",
      "`____`   APPLY XOR ('vertically')\n",
      "\n",
      "`1011` == 11 (binary)"
     ]
    },
    {
     "cell_type": "markdown",
     "metadata": {},
     "source": [
      "The boolean operators are spelled out as words `and`, `not`, `or`. "
     ]
    },
    {
     "cell_type": "code",
     "collapsed": false,
     "input": [
      "True and False"
     ],
     "language": "python",
     "metadata": {},
     "outputs": []
    },
    {
     "cell_type": "code",
     "collapsed": false,
     "input": [
      "not False"
     ],
     "language": "python",
     "metadata": {},
     "outputs": []
    },
    {
     "cell_type": "code",
     "collapsed": false,
     "input": [
      "True or False"
     ],
     "language": "python",
     "metadata": {},
     "outputs": []
    },
    {
     "cell_type": "markdown",
     "metadata": {},
     "source": [
      "Comparison operators `>`, `<`, `>=` (greater or equal), `<=` (less or equal)"
     ]
    },
    {
     "cell_type": "code",
     "collapsed": false,
     "input": [
      "2 > 1, 2 < 1"
     ],
     "language": "python",
     "metadata": {},
     "outputs": []
    },
    {
     "cell_type": "code",
     "collapsed": false,
     "input": [
      "2 > 2, 2 < 2"
     ],
     "language": "python",
     "metadata": {},
     "outputs": []
    },
    {
     "cell_type": "code",
     "collapsed": false,
     "input": [
      "2 >= 2, 2 <= 2"
     ],
     "language": "python",
     "metadata": {},
     "outputs": []
    },
    {
     "cell_type": "markdown",
     "metadata": {},
     "source": [
      "### Dictionaries\n",
      "\n",
      "Dictionaries are collections where each element is a *key* : *value* pair.\n",
      "\n",
      "`dict` objects are not ordered and thus do not have numerical indicies.\n",
      "\n",
      "They can be created using curly braces together with colons (`:`) and commas (`,`) as such:"
     ]
    },
    {
     "cell_type": "code",
     "collapsed": false,
     "input": [
      "{1:'one', 2:'two', 3:'three'}"
     ],
     "language": "python",
     "metadata": {},
     "outputs": []
    },
    {
     "cell_type": "markdown",
     "metadata": {},
     "source": [
      "Or, by using the `dict` function:"
     ]
    },
    {
     "cell_type": "code",
     "collapsed": false,
     "input": [
      "dict(one=1, two=2, three=3)"
     ],
     "language": "python",
     "metadata": {},
     "outputs": []
    },
    {
     "cell_type": "markdown",
     "metadata": {},
     "source": [
      "Values are retrieved using keys:"
     ]
    },
    {
     "cell_type": "code",
     "collapsed": false,
     "input": [
      "a = {1:'one', 2:'two', 3:'three'}\n",
      "b = dict(one=1, two=2, three=3)\n",
      "\n",
      "a[1], b['one']"
     ],
     "language": "python",
     "metadata": {},
     "outputs": []
    },
    {
     "cell_type": "markdown",
     "metadata": {},
     "source": [
      "New *key* : *value* pairs can be added:"
     ]
    },
    {
     "cell_type": "code",
     "collapsed": false,
     "input": [
      "b['four'] = 4\n",
      "b"
     ],
     "language": "python",
     "metadata": {},
     "outputs": []
    },
    {
     "cell_type": "markdown",
     "metadata": {},
     "source": [
      "*key* : *value* pairs can be deleted from `dict` objects"
     ]
    },
    {
     "cell_type": "code",
     "collapsed": false,
     "input": [
      "del a[1]\n",
      "del b['one']\n",
      "a, b"
     ],
     "language": "python",
     "metadata": {},
     "outputs": []
    },
    {
     "cell_type": "markdown",
     "metadata": {},
     "source": [
      "Additional collection object types are available from the `collections` module:"
     ]
    },
    {
     "cell_type": "code",
     "collapsed": false,
     "input": [
      "import collections\n",
      "dir(collections)"
     ],
     "language": "python",
     "metadata": {},
     "outputs": []
    },
    {
     "cell_type": "code",
     "collapsed": false,
     "input": [
      "import sys\n",
      "import IPython"
     ],
     "language": "python",
     "metadata": {},
     "outputs": []
    },
    {
     "cell_type": "code",
     "collapsed": false,
     "input": [
      "print(\"This notebook was evaluated with: Python %s and IPython %s.\" % (sys.version, IPython.__version__))"
     ],
     "language": "python",
     "metadata": {},
     "outputs": []
    }
   ],
   "metadata": {}
  }
 ]
}