{
 "metadata": {
  "name": "",
  "signature": "sha256:95ce4a1ac4c1c7685361411eba328adeaa4e101e64353c4962fb4993652cb639"
 },
 "nbformat": 3,
 "nbformat_minor": 0,
 "worksheets": [
  {
   "cells": [
    {
     "cell_type": "markdown",
     "metadata": {},
     "source": [
      "## Python is an **unnatural** language.\n",
      "\n",
      "Even if many words used in Python resemble English words, they \n",
      "are interpreted in a very different way.  It is best if one \n",
      "does not associate the English meaning with the Python meaning\n",
      "and instead relearns each word in turn.\n",
      "\n",
      "### Think in *tokens*, not words with punctuation.\n",
      "\n",
      "The words used in programs are not words, they are *tokens* that are interpreted \n",
      "as one unit of thought with a single meaning depending on the context. All other symbols (i.e. `=`, `+`)\n",
      "and sometimes combinations of symbols (i.e. `==`, `+=`) are also *tokens*.  All tokens are interpreted \n",
      "with the same rules. \n",
      "\n",
      "### What you write is not a text, it is code.\n",
      "\n",
      "Instead of writing text, computer people write code because of its natural tendency to be incomprehensible.\n",
      "All effort should be made to make the code you write easy for **humans** to read (interpret).\n",
      "\n",
      "### Think in *statements* not sentences.\n",
      "\n",
      "Programs are made up of a series of *statements* made up of tokens (i.e. `e = 2.718281828`) which can roughly \n",
      "be thought of as sentences. However, unlike natural language, one\n",
      "does not read each *statement* in consecutive order to reach the end of your code.  \n",
      "Instead, one must read Python statements in the order defined by the rules of \n",
      "the language. This may be confusing to the novice because statements written in \n",
      "the code are sometimes skipped and others are read many many many times even though \n",
      "they appear only once; Reading code is almost never top to bottom and usually involves jumping around, however, \n",
      "all effort should be made to make the code you write easy for **humans** to interpret.\n",
      "\n",
      "### Code is never ambiguous. \n",
      "\n",
      "Python code is interpreted by the python interpreter. \n",
      "Given the same input, your computer program should always do the same thing. \n",
      "One way to learn how to read code is to ask the interpreter questions."
     ]
    },
    {
     "cell_type": "markdown",
     "metadata": {},
     "source": [
      "## Execute each *cell* in this IPython notebook by pressing `Ctrl`, holding it down, and then pressing `Enter` (`Ctrl-Enter`)"
     ]
    },
    {
     "cell_type": "code",
     "collapsed": false,
     "input": [
      "5 + 2"
     ],
     "language": "python",
     "metadata": {},
     "outputs": []
    },
    {
     "cell_type": "markdown",
     "metadata": {},
     "source": [
      "The statement `5 + 2` made up of the three tokens `5`, `+`, `2` causes Python to add these two numbers and return the result.  We did not specify what to do with this result and in this case it was spit out onto the screen.   "
     ]
    },
    {
     "cell_type": "code",
     "collapsed": false,
     "input": [
      "a = 5 + 2"
     ],
     "language": "python",
     "metadata": {},
     "outputs": []
    },
    {
     "cell_type": "markdown",
     "metadata": {},
     "source": [
      "The `=` token tells our program to store the output of adding these numbers into a *variable* named `a`."
     ]
    },
    {
     "cell_type": "code",
     "collapsed": false,
     "input": [
      "7 = a"
     ],
     "language": "python",
     "metadata": {},
     "outputs": []
    },
    {
     "cell_type": "markdown",
     "metadata": {},
     "source": [
      "We cannot tell the program to store the contents of `a` into a number. Variables cannot start with numbers. "
     ]
    },
    {
     "cell_type": "code",
     "collapsed": false,
     "input": [
      "7 == a"
     ],
     "language": "python",
     "metadata": {},
     "outputs": []
    },
    {
     "cell_type": "markdown",
     "metadata": {},
     "source": [
      "The `==` token means test if the thing on the left is the same as the thing on the right."
     ]
    },
    {
     "cell_type": "markdown",
     "metadata": {},
     "source": [
      "IPython provides a `help` function.  Try:"
     ]
    },
    {
     "cell_type": "code",
     "collapsed": false,
     "input": [
      "help(1)"
     ],
     "language": "python",
     "metadata": {},
     "outputs": []
    },
    {
     "cell_type": "markdown",
     "metadata": {},
     "source": [
      "You will learn things you never knew about integers, and a whole lot about operators like `+`.\n",
      "\n",
      "A shorter version of help is available but it only works on variables (like `b` below), not *expressions* like `1` or `41**(3 /2.0)`:"
     ]
    },
    {
     "cell_type": "code",
     "collapsed": false,
     "input": [
      "b = 1.0\n",
      "b?"
     ],
     "language": "python",
     "metadata": {},
     "outputs": []
    },
    {
     "cell_type": "markdown",
     "metadata": {},
     "source": [
      "## Exercise: Convert English into Python.\n",
      "\n",
      "Write three Python statements in the next cell to calculate the area swept out by a planet orbiting the sun.  The first will store the maximum distance the planet moves away from the sun during its orbit, the second will store the minimum distance from the sun, and the third will multiply these together with $\\pi$ and store the value in a variable `planet_area`.\n",
      "\n",
      "Hint: The value of $\\pi$ can be retrieved from the Python `math` *module* as seen below."
     ]
    },
    {
     "cell_type": "code",
     "collapsed": false,
     "input": [
      "import math\n",
      "math.pi"
     ],
     "language": "python",
     "metadata": {},
     "outputs": [
      {
       "metadata": {},
       "output_type": "pyout",
       "prompt_number": 1,
       "text": [
        "3.141592653589793"
       ]
      }
     ],
     "prompt_number": 1
    },
    {
     "cell_type": "markdown",
     "metadata": {},
     "source": [
      "## Variable names \n",
      "\n",
      "Variable names in Python can contain alphanumerical characters `a-z`, `A-Z`, `0-9` and some special characters such as `_`. Variable names cannot start with a number. \n",
      "\n",
      "By convension, variable names start with a lower-case letter, and Class names start with a capital letter. \n",
      "\n",
      "In addition, there are a number of Python keywords that cannot be used as variable names. These keywords are:\n",
      "\n",
      "    and, as, assert, break, class, continue, def, del, elif, else, except, \n",
      "    exec, finally, for, from, global, if, import, in, is, lambda, not, or,\n",
      "    pass, print, raise, return, try, while, with, yield.\n",
      "\n",
      "Common python functions and modules should also not be used as variable names.  If it is commonly imported, \n",
      "DO NOT use it as a variable name:\n",
      "\n",
      "    string, os, sys, ord, chr, int, float, bool, long, numpy, .... (longer list)"
     ]
    },
    {
     "cell_type": "markdown",
     "metadata": {},
     "source": [
      "### Acceptable variable names\n",
      "\n",
      "These are all legal variable names."
     ]
    },
    {
     "cell_type": "code",
     "collapsed": false,
     "input": [
      "x = 7\n",
      "x1 = 3.4\n",
      "x23982342 = 56.8"
     ],
     "language": "python",
     "metadata": {},
     "outputs": []
    },
    {
     "cell_type": "markdown",
     "metadata": {},
     "source": [
      "### Use descriptive variable names\n",
      "\n",
      "Use variable names that describe what they contain."
     ]
    },
    {
     "cell_type": "code",
     "collapsed": false,
     "input": [
      "number_of_cats = 7\n",
      "area_of_cat_house = 3.4 # in square meters\n",
      "cat_fights_per_day = 56.8"
     ],
     "language": "python",
     "metadata": {},
     "outputs": []
    }
   ],
   "metadata": {}
  }
 ]
}