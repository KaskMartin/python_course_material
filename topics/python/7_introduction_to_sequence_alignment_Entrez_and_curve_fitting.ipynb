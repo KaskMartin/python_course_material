{
 "metadata": {
  "name": "",
  "signature": "sha256:38bb191de81400fe86ba11ad80a77ff77bab95379c8e21430d191a808155d695"
 },
 "nbformat": 3,
 "nbformat_minor": 0,
 "worksheets": [
  {
   "cells": [
    {
     "cell_type": "code",
     "collapsed": false,
     "input": [
      "from Bio import pairwise2"
     ],
     "language": "python",
     "metadata": {},
     "outputs": [],
     "prompt_number": 1
    },
    {
     "cell_type": "markdown",
     "metadata": {},
     "source": [
      "### Task:\n",
      "\n",
      "You have two sequences:\n",
      "seq1 = 'ACGTCCTTCATT'\n",
      "seq2 = 'GTCTCATG'\n",
      "\n",
      "You have a scoring scheme where\n",
      "* a match gives you +1\n",
      "* a mismatch gives you 0\n",
      "* gap opening costs \u221210\n",
      "\n",
      "Find the best alignment of the two sequences.\n",
      "\n",
      "You have a scoring scheme where:\n",
      "* a match gives you +1\n",
      "* a mismatch gives you \u22121\n",
      "* gap opening costs you \u22121\n",
      "\n",
      "Find the best alignment of the two sequences.\n",
      "\n",
      "HINT: look at the following documentation page \n",
      "for Biopython:\n",
      "http://biopython.org/DIST/docs/api/Bio.pairwise2-module.html"
     ]
    },
    {
     "cell_type": "code",
     "collapsed": false,
     "input": [
      "seq1 = 'ACGTCCTTCATT'\n",
      "seq2 =  'GTCTCATG'\n",
      "pairwise2.align.localms(seq1, seq2, 1, 0, -10, -10000000)"
     ],
     "language": "python",
     "metadata": {},
     "outputs": [
      {
       "metadata": {},
       "output_type": "pyout",
       "prompt_number": 2,
       "text": [
        "[('ACGTCCTTCATT', '----GTCTCATG', 4, 7, 12),\n",
        " ('ACGTCCTTCATT', '----GTCTCATG', 4, 7, 11)]"
       ]
      }
     ],
     "prompt_number": 2
    },
    {
     "cell_type": "code",
     "collapsed": false,
     "input": [
      "pairwise2.align.localms(seq1, seq2, 1, -1, -1, -10000000)"
     ],
     "language": "python",
     "metadata": {},
     "outputs": [
      {
       "metadata": {},
       "output_type": "pyout",
       "prompt_number": 5,
       "text": [
        "[('ACGTCCTTCATT', '--GTC-T-CATG', 5, 2, 11),\n",
        " ('ACGTCCTTCATT', '--GT-CT-CATG', 5, 2, 11),\n",
        " ('ACGTCCTTCATT', '--GT-C-TCATG', 5, 2, 11)]"
       ]
      }
     ],
     "prompt_number": 5
    },
    {
     "cell_type": "markdown",
     "metadata": {},
     "source": [
      "### The format_alignment function\n",
      "\n",
      "pairwise2 has a format_alignment function to better visualize the alignment output. "
     ]
    },
    {
     "cell_type": "code",
     "collapsed": false,
     "input": [
      "out_tuplesA = pairwise2.align.localms(seq1, seq2, 1, 0, -10, -10000000)\n",
      "out_tuplesB = pairwise2.align.localms(seq1, seq2, 1, -1, -1, -1)\n",
      "\n",
      "print('1, 0, -10, -inf:')\n",
      "for ot in out_tuplesA:\n",
      "    print(pairwise2.format_alignment(*ot))\n",
      "    \n",
      "print('\\n1, -1, -1, -inf:')\n",
      "for ot in out_tuplesB:\n",
      "    print(pairwise2.format_alignment(*ot))"
     ],
     "language": "python",
     "metadata": {},
     "outputs": [
      {
       "output_type": "stream",
       "stream": "stdout",
       "text": [
        "1, 0, -10, -inf:\n",
        "ACGTCCTTCATT\n",
        "       |||||\n",
        "----GTCTCATG\n",
        "  Score=4\n",
        "\n",
        "ACGTCCTTCATT\n",
        "       ||||\n",
        "----GTCTCATG\n",
        "  Score=4\n",
        "\n",
        "\n",
        "1, -1, -1, -inf:\n",
        "ACGTCCTTCATT\n",
        "  |||||||||\n",
        "--GTC-T-CATG\n",
        "  Score=5\n",
        "\n",
        "ACGTCCTTCATT\n",
        "  |||||||||\n",
        "--GT-CT-CATG\n",
        "  Score=5\n",
        "\n",
        "ACGTCCTTCATT\n",
        "  |||||||||\n",
        "--GT-C-TCATG\n",
        "  Score=5\n",
        "\n",
        "ACGTCCTTCATT\n",
        "  |||||||||\n",
        "--GTC--TCATG\n",
        "  Score=5\n",
        "\n"
       ]
      }
     ],
     "prompt_number": 8
    },
    {
     "cell_type": "markdown",
     "metadata": {},
     "source": [
      "### Using the Entrez databases via Biopython\n",
      "\n",
      "You can access all of the information in the Entrez databases \n",
      "via Biopython, although a new Python package, Bioservices, is \n",
      "probably easier and provides access to MANY different online \n",
      "databases. https://pythonhosted.org/bioservices/"
     ]
    },
    {
     "cell_type": "code",
     "collapsed": false,
     "input": [
      "from Bio import Entrez\n",
      "Entrez.email = 'schryer@gmail.com'"
     ],
     "language": "python",
     "metadata": {},
     "outputs": [],
     "prompt_number": 9
    },
    {
     "cell_type": "code",
     "collapsed": false,
     "input": [
      "handle = Entrez.einfo()\n",
      "record = Entrez.read(handle)\n",
      "record['DbList']"
     ],
     "language": "python",
     "metadata": {},
     "outputs": [
      {
       "output_type": "stream",
       "stream": "stderr",
       "text": [
        "/home/david/pyenvs/py3/lib/python3.4/site-packages/Bio/Entrez/Parser.py:525: UserWarning: Unable to load DTD file einfo.dtd.\n",
        "\n",
        "Bio.Entrez uses NCBI's DTD files to parse XML files returned by NCBI Entrez.\n",
        "Though most of NCBI's DTD files are included in the Biopython distribution,\n",
        "sometimes you may find that a particular DTD file is missing. While we can\n",
        "access the DTD file through the internet, the parser is much faster if the\n",
        "required DTD files are available locally.\n",
        "\n",
        "For this purpose, please download einfo.dtd from\n",
        "\n",
        "http://eutils.ncbi.nlm.nih.gov/eutils/dtd/20130322/einfo.dtd\n",
        "\n",
        "and save it either in directory\n",
        "\n",
        "/home/david/pyenvs/py3/lib/python3.4/site-packages/Bio/Entrez/DTDs\n",
        "\n",
        "or in directory\n",
        "\n",
        "/home/david/.biopython/Bio/Entrez/DTDs\n",
        "\n",
        "in order for Bio.Entrez to find it.\n",
        "\n",
        "Alternatively, you can save einfo.dtd in the directory\n",
        "Bio/Entrez/DTDs in the Biopython distribution, and reinstall Biopython.\n",
        "\n",
        "Please also inform the Biopython developers about this missing DTD, by\n",
        "reporting a bug on https://github.com/biopython/biopython/issues or sign\n",
        "up to our mailing list and emailing us, so that we can include it with the\n",
        "next release of Biopython.\n",
        "\n",
        "Proceeding to access the DTD file through the internet...\n",
        "\n",
        "  warnings.warn(message)\n"
       ]
      },
      {
       "metadata": {},
       "output_type": "pyout",
       "prompt_number": 10,
       "text": [
        "['pubmed', 'protein', 'nuccore', 'nucleotide', 'nucgss', 'nucest', 'structure', 'genome', 'assembly', 'genomeprj', 'bioproject', 'biosample', 'blastdbinfo', 'books', 'cdd', 'clinvar', 'clone', 'gap', 'gapplus', 'dbvar', 'epigenomics', 'gene', 'gds', 'geoprofiles', 'homologene', 'medgen', 'journals', 'mesh', 'ncbisearch', 'nlmcatalog', 'omim', 'orgtrack', 'pmc', 'popset', 'probe', 'proteinclusters', 'pcassay', 'biosystems', 'pccompound', 'pcsubstance', 'pubmedhealth', 'seqannot', 'snp', 'sra', 'taxonomy', 'toolkit', 'toolkitall', 'toolkitbook', 'unigene', 'gencoll', 'gtr']"
       ]
      }
     ],
     "prompt_number": 10
    },
    {
     "cell_type": "code",
     "collapsed": false,
     "input": [
      "handle = Entrez.einfo(db='pubmed')\n",
      "record = Entrez.read(handle)\n",
      "record['DbInfo']['Description']"
     ],
     "language": "python",
     "metadata": {},
     "outputs": [
      {
       "metadata": {},
       "output_type": "pyout",
       "prompt_number": 11,
       "text": [
        "'PubMed bibliographic record'"
       ]
      }
     ],
     "prompt_number": 11
    },
    {
     "cell_type": "code",
     "collapsed": false,
     "input": [
      "handle = Entrez.esearch(db='pubmed', term='persister')\n",
      "record = Entrez.read(handle)\n",
      "record['IdList']"
     ],
     "language": "python",
     "metadata": {},
     "outputs": [
      {
       "output_type": "stream",
       "stream": "stderr",
       "text": [
        "/home/david/pyenvs/py3/lib/python3.4/site-packages/Bio/Entrez/Parser.py:525: UserWarning: Unable to load DTD file esearch.dtd.\n",
        "\n",
        "Bio.Entrez uses NCBI's DTD files to parse XML files returned by NCBI Entrez.\n",
        "Though most of NCBI's DTD files are included in the Biopython distribution,\n",
        "sometimes you may find that a particular DTD file is missing. While we can\n",
        "access the DTD file through the internet, the parser is much faster if the\n",
        "required DTD files are available locally.\n",
        "\n",
        "For this purpose, please download esearch.dtd from\n",
        "\n",
        "http://eutils.ncbi.nlm.nih.gov/eutils/dtd/20060628/esearch.dtd\n",
        "\n",
        "and save it either in directory\n",
        "\n",
        "/home/david/pyenvs/py3/lib/python3.4/site-packages/Bio/Entrez/DTDs\n",
        "\n",
        "or in directory\n",
        "\n",
        "/home/david/.biopython/Bio/Entrez/DTDs\n",
        "\n",
        "in order for Bio.Entrez to find it.\n",
        "\n",
        "Alternatively, you can save esearch.dtd in the directory\n",
        "Bio/Entrez/DTDs in the Biopython distribution, and reinstall Biopython.\n",
        "\n",
        "Please also inform the Biopython developers about this missing DTD, by\n",
        "reporting a bug on https://github.com/biopython/biopython/issues or sign\n",
        "up to our mailing list and emailing us, so that we can include it with the\n",
        "next release of Biopython.\n",
        "\n",
        "Proceeding to access the DTD file through the internet...\n",
        "\n",
        "  warnings.warn(message)\n"
       ]
      },
      {
       "metadata": {},
       "output_type": "pyout",
       "prompt_number": 12,
       "text": [
        "['25304862', '25302955', '25283595', '25267859', '25254624', '25245998', '25203125', '25192989', '25144274', '25130648', '25120957', '25118250', '25102868', '25100240', '25049258', '25041421', '24987115', '24891106', '24885389', '24837402']"
       ]
      }
     ],
     "prompt_number": 12
    },
    {
     "cell_type": "code",
     "collapsed": false,
     "input": [
      "handle = Entrez.efetch(db='pubmed', id='25267859')\n",
      "print(handle.read())"
     ],
     "language": "python",
     "metadata": {},
     "outputs": [
      {
       "output_type": "stream",
       "stream": "stdout",
       "text": [
        "\n",
        "Pubmed-entry ::= {\n",
        "  pmid 25267859,\n",
        "  medent {\n",
        "    em std {\n",
        "      year 2014,\n",
        "      month 9,\n",
        "      day 30\n",
        "    },\n",
        "    cit {\n",
        "      title {\n",
        "        name \"Controlling bacterial behavior with indole-containing natural\n",
        " products and derivatives.\"\n",
        "      },\n",
        "      authors {\n",
        "        names std {\n",
        "          {\n",
        "            name ml \"Melander RJ\",\n",
        "            affil str \"Department of Chemistry, North Carolina State\n",
        " University, Raleigh, NC, 27695.\"\n",
        "          },\n",
        "          {\n",
        "            name ml \"Minvielle MJ\",\n",
        "            affil str \"Department of Chemistry, North Carolina State\n",
        " University, Raleigh, NC, 27695.\"\n",
        "          },\n",
        "          {\n",
        "            name ml \"Melander C\",\n",
        "            affil str \"Department of Chemistry, North Carolina State\n",
        " University, Raleigh, NC, 27695.\"\n",
        "          }\n",
        "        }\n",
        "      },\n",
        "      from journal {\n",
        "        title {\n",
        "          iso-jta \"Tetrahedron\",\n",
        "          ml-jta \"Tetrahedron\",\n",
        "          issn \"0040-4020\"\n",
        "        },\n",
        "        imp {\n",
        "          date std {\n",
        "            year 2014,\n",
        "            month 9,\n",
        "            day 16\n",
        "          },\n",
        "          volume \"70\",\n",
        "          issue \"37\",\n",
        "          pages \"6363-6372\",\n",
        "          language \"ENG\",\n",
        "          pubstatus ppublish,\n",
        "          history {\n",
        "            {\n",
        "              pubstatus other,\n",
        "              date std {\n",
        "                year 2014,\n",
        "                month 10,\n",
        "                day 1,\n",
        "                hour 6,\n",
        "                minute 0\n",
        "              }\n",
        "            },\n",
        "            {\n",
        "              pubstatus pubmed,\n",
        "              date std {\n",
        "                year 2014,\n",
        "                month 10,\n",
        "                day 1,\n",
        "                hour 6,\n",
        "                minute 0\n",
        "              }\n",
        "            },\n",
        "            {\n",
        "              pubstatus medline,\n",
        "              date std {\n",
        "                year 2014,\n",
        "                month 10,\n",
        "                day 1,\n",
        "                hour 6,\n",
        "                minute 0\n",
        "              }\n",
        "            },\n",
        "            {\n",
        "              pubstatus other,\n",
        "              date std {\n",
        "                year 2015,\n",
        "                month 9,\n",
        "                day 16,\n",
        "                hour 0,\n",
        "                minute 0\n",
        "              }\n",
        "            }\n",
        "          }\n",
        "        }\n",
        "      },\n",
        "      ids {\n",
        "        doi \"10.1016/j.tet.2014.05.089\",\n",
        "        pubmed 25267859,\n",
        "        other {\n",
        "          db \"pmc\",\n",
        "          tag str \"PMC4175420\"\n",
        "        },\n",
        "        other {\n",
        "          db \"mid\",\n",
        "          tag str \"NIHMS601941\"\n",
        "        }\n",
        "      }\n",
        "    },\n",
        "    abstract \"Indole has recently been implicated as an important small\n",
        " molecule signal utilized by many bacteria to coordinate various forms of\n",
        " behavior. Indole plays a role in numerous bacterial processes, including:\n",
        " biofilm formation and maintenance, virulence factor production, antibiotic\n",
        " resistance and persister cell formation. Intercepting indole-signaling\n",
        " pathways with appropriately designed small molecules provides a n opportunity\n",
        " to control unwanted bacterial behaviors, and is an attractive anti-virulence\n",
        " therapeutic strategy. In this review, we give an overview of the process\n",
        " controlled by indole signaling, and summarize current efforts to design\n",
        " indole-containing small molecules to intercept these pathways, and detail the\n",
        " synthetic efforts towards accessing indole derived bioactive small molecules.\",\n",
        "    idnum {\n",
        "      \"R01 GM055769/GM/NIGMS NIH HHS\"\n",
        "    },\n",
        "    pmid 25267859,\n",
        "    pub-type {\n",
        "      \"JOURNAL ARTICLE\"\n",
        "    },\n",
        "    status publisher\n",
        "  }\n",
        "}\n",
        "\n",
        "\n",
        "\n"
       ]
      }
     ],
     "prompt_number": 13
    },
    {
     "cell_type": "markdown",
     "metadata": {},
     "source": [
      "### Curve fitting\n",
      "\n",
      "One common task for biologists is to fit experimental data \n",
      "to a function. For example, one may want to fit a 4 parameter \n",
      "logistic equation to enzyme-linked immunosorbent assay (ELISA) \n",
      "data. The usual formula for this model is:\n",
      "\n",
      "$f(x) = \\frac{A - D}{1 + \\left(\\frac{x}{C}\\right)^B} + D$,\n",
      "\n",
      "where $x$ is the concentration, $A$ is the minimum asymptote, $B$ is the steepness, $C$ is the inflection point and $D$ is the maximum asymptote."
     ]
    },
    {
     "cell_type": "code",
     "collapsed": false,
     "input": [
      "%matplotlib inline\n",
      "import numpy as np\n",
      "import matplotlib.pyplot as plt\n",
      "from scipy.optimize import leastsq\n",
      "\n",
      "def logistic4(x, A, B, C, D):\n",
      "    '''Four parameter logistic equation.\n",
      "    \n",
      "    $f(x) = \\frac{A - D}{1 + \\left(\\frac{x}{C}\\right)^B} + D$\n",
      "    '''\n",
      "    return ((A-D)/(1.0+((x/C)**B))) + D\n",
      "\n",
      "def residuals(parameters, x, y):\n",
      "    '''Deviations of data from logistic4'''\n",
      "    A, B, C, D = parameters\n",
      "    err = y - logistic4(x, A, B, C, D)\n",
      "    return err\n",
      "\n",
      "# Make up some data for fitting and add noise\n",
      "# In practice, y_meas would be read in from a file\n",
      "x_measured = np.linspace(0, 20, 20)\n",
      "x_true = np.linspace(0, 20, 100)\n",
      "\n",
      "# True parameter values\n",
      "A, B, C, D = true_parameters = 0.5, 2.5, 8, 7.3\n",
      "y_true = logistic4(x_true, *true_parameters)#A, B, C, D)\n",
      "\n",
      "# Simulated measurements of data.\n",
      "y_measured = logistic4(x_measured, *true_parameters) + 0.1 * np.random.randn(len(x_measured))\n",
      "\n",
      "# Initial guess for parameters\n",
      "initial_parameters = [0, 1, 1, 1]\n",
      "\n",
      "# Fit equation using least squares optimization\n",
      "leastsq_output = leastsq(residuals, initial_parameters, args=(x_measured, y_measured))\n",
      "\n",
      "# Plot results\n",
      "plt.plot(x_true, logistic4(x_true, *leastsq_output[0]), 'r--')\n",
      "plt.plot(x_measured, y_measured, 'bo')\n",
      "plt.plot(x_true, y_true, 'g-')\n",
      "plt.title('Least squares fit to logistic equation with noisy data')\n",
      "plt.legend(['Fit', 'Data', 'True'], loc='upper left')\n",
      "\n",
      "plt.text(10, 2.5, 'Parameter   True   Estimated')\n",
      "for index, estimated_value in enumerate(leastsq_output[0]):\n",
      "    param_key = 'ABCD'[index]\n",
      "    true_value = true_parameters[index]\n",
      "    plot_text = '{:>10} {:>12.2f} {:>10.2f}'.format(param_key, true_value, estimated_value)\n",
      "    plt.text(10, 2-index*0.5, plot_text)\n",
      "\n",
      "plt.show()"
     ],
     "language": "python",
     "metadata": {},
     "outputs": [
      {
       "metadata": {},
       "output_type": "display_data",
       "png": "[encoded data removed]",
       "text": [
        "<matplotlib.figure.Figure at 0x7fd7380dae48>"
       ]
      }
     ],
     "prompt_number": 20
    },
    {
     "cell_type": "code",
     "collapsed": false,
     "input": [],
     "language": "python",
     "metadata": {},
     "outputs": []
    }
   ],
   "metadata": {}
  }
 ]
}