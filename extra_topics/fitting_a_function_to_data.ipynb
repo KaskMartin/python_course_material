{
 "metadata": {
  "name": "fitting_a_function_to_data"
 },
 "nbformat": 3,
 "nbformat_minor": 0,
 "worksheets": [
  {
   "cells": [
    {
     "cell_type": "markdown",
     "metadata": {},
     "source": [
      "#### Preliminary note:\n",
      "\n",
      "Instead of using `--pylab inline` to plot (which produces raster graphics), \n",
      "I prefer to make `svg` versions, show these and save the plot in another format.  \n",
      "\n",
      "A `tools` module has been added and includes a `show` function.  The `show` function allows for simultaneous viewing as a vector graphic image and saving the image in another format.\n",
      "\n",
      "To edit `show` within the `tools` module (using an external editor),\n",
      "the `autoreload` IPython extension is required.  \n",
      "\n",
      "The `autoreload` extension reloads external modules each time you use them."
     ]
    },
    {
     "cell_type": "code",
     "collapsed": false,
     "input": [
      "import sys\n",
      "sys.path.append('../code/')\n",
      "from tools import show\n",
      "\n",
      "%load_ext autoreload\n",
      "%autoreload 2"
     ],
     "language": "python",
     "metadata": {},
     "outputs": []
    },
    {
     "cell_type": "code",
     "collapsed": false,
     "input": [
      "help(show)"
     ],
     "language": "python",
     "metadata": {},
     "outputs": []
    },
    {
     "cell_type": "markdown",
     "metadata": {},
     "source": [
      "## Fitting a function to data\n",
      "\n",
      "In this exercise we will:\n",
      "\n",
      "- Generate data to fit\n",
      "- Fit a function to this data\n",
      "- Plot the function and data together\n",
      "\n",
      "### Reading in data"
     ]
    },
    {
     "cell_type": "code",
     "collapsed": false,
     "input": [
      "import pandas\n",
      "\n",
      "filename = 'data/example_data.txt'\n",
      "df = pandas.read_csv(filename, sep=',\\s*')\n",
      "print(df.keys())"
     ],
     "language": "python",
     "metadata": {},
     "outputs": []
    },
    {
     "cell_type": "markdown",
     "metadata": {},
     "source": [
      "Now we can extract the individual replicates and normalize them:"
     ]
    },
    {
     "cell_type": "code",
     "collapsed": false,
     "input": [
      "import numpy \n",
      "\n",
      "max_value = numpy.array([df['A'].max(), \n",
      "                         df['B'].max(), \n",
      "                         df['C'].max(),\n",
      "                        ], dtype=numpy.float64).max()\n",
      "\n",
      "nrA = df['A'] / max_value\n",
      "nrB = df['B'] / max_value\n",
      "nrC = df['C'] / max_value\n",
      "\n",
      "replicates = pandas.DataFrame([nrA, nrB, nrC])\n",
      "\n",
      "assert df['x'].shape == nrA.shape #Shape should be the same"
     ],
     "language": "python",
     "metadata": {},
     "outputs": []
    },
    {
     "cell_type": "markdown",
     "metadata": {},
     "source": [
      "### Plotting data"
     ]
    },
    {
     "cell_type": "code",
     "collapsed": false,
     "input": [
      "import math\n",
      "import matplotlib.pyplot as plt\n",
      "\n",
      "fig = plt.figure(figsize=(6,4))\n",
      "\n",
      "plt.plot(df['x'], nrA, 'r.', label='A')\n",
      "plt.plot(df['x'], nrB, 'b.', label='B')\n",
      "plt.plot(df['x'], nrC, 'g.', label='C')\n",
      "\n",
      "plt.errorbar(df['x'], replicates.mean(), fmt='k.', alpha=0.2, \n",
      "             yerr=math.sqrt(2)*replicates.std(), label='mean with error')\n",
      "\n",
      "plt.legend(loc='best')\n",
      "plt.xlim(0, 6.5)\n",
      "show(fig)"
     ],
     "language": "python",
     "metadata": {},
     "outputs": []
    },
    {
     "cell_type": "markdown",
     "metadata": {},
     "source": [
      "### Pick a fitting function\n",
      "\n",
      "It looks like sigmoidal data.  Perhaps we should use a sigmoical function:\n",
      "\n",
      "$$ f(x) = \\frac{1}{1+e^{-k \\cdot (x-x_0)}}$$\n",
      "\n",
      "where $x$ is the concentration, $x_0$ is the offset in concentration, and $k$ is the exponential factor.  The unknown parameters are $x_0$ and $k$.  \n",
      "\n",
      "This function written in Python"
     ]
    },
    {
     "cell_type": "code",
     "collapsed": false,
     "input": [
      "def fit_function(x, x0, k):\n",
      "     return 1 / (1 + numpy.exp(-k*(x-x0)))"
     ],
     "language": "python",
     "metadata": {},
     "outputs": []
    },
    {
     "cell_type": "markdown",
     "metadata": {},
     "source": [
      "### Finding the unknown parameters using least squares fitting"
     ]
    },
    {
     "cell_type": "code",
     "collapsed": false,
     "input": [
      "from scipy.optimize import curve_fit\n",
      "\n",
      "# We include all data in the analysis:\n",
      "all_x_values = numpy.concatenate([df['x']]*3)\n",
      "all_measured_values = numpy.concatenate((nrA, nrB, nrC))\n",
      "\n",
      "optimal_parameters, cov_mat = curve_fit(fit_function, \n",
      "                                        all_x_values, \n",
      "                                        all_measured_values)"
     ],
     "language": "python",
     "metadata": {},
     "outputs": []
    },
    {
     "cell_type": "code",
     "collapsed": false,
     "input": [
      "print('''Optimal parameters:\\nx0: {1:.2f}\\n k: {2:.2f}\\n\n",
      "The diagonals provide the variance of the parameter estimate:\n",
      "{0}'''.format(cov_mat, *optimal_parameters))"
     ],
     "language": "python",
     "metadata": {},
     "outputs": []
    },
    {
     "cell_type": "code",
     "collapsed": false,
     "input": [
      "x_range = numpy.linspace(0, df['x'][0], 100)\n",
      "estimated_y = fit_function(x_range, *optimal_parameters)"
     ],
     "language": "python",
     "metadata": {},
     "outputs": []
    },
    {
     "cell_type": "code",
     "collapsed": false,
     "input": [
      "import math\n",
      "fig = plt.figure(figsize=(6,4))\n",
      "\n",
      "plt.plot(df['x'], nrA, 'r.', label='A')\n",
      "plt.plot(df['x'], nrB, 'b.', label='B')\n",
      "plt.plot(df['x'], nrC, 'g.', label='C')\n",
      "\n",
      "plt.errorbar(df['x'], replicates.mean(), fmt='k.', alpha=0.2, \n",
      "             yerr=math.sqrt(2)*replicates.std(), label='mean with error')\n",
      "\n",
      "plt.plot(x_range, estimated_y, 'k-', alpha=0.6, label='fit')\n",
      "\n",
      "plt.legend(loc='best')\n",
      "plt.xlim(0, 6.5)\n",
      "show(fig)"
     ],
     "language": "python",
     "metadata": {},
     "outputs": []
    },
    {
     "cell_type": "markdown",
     "metadata": {},
     "source": [
      "### Follow up work\n",
      "\n",
      "Together we will improve this plot by adding a title and axis text.\n",
      "\n",
      "Perform the same calculation excluding the data from replicateC. "
     ]
    }
   ],
   "metadata": {}
  }
 ]
}