{
 "metadata": {
  "name": "biopython"
 },
 "nbformat": 3,
 "nbformat_minor": 0,
 "worksheets": [
  {
   "cells": [
    {
     "cell_type": "markdown",
     "metadata": {},
     "source": [
      "## Introduction to Biopython \n",
      "\n",
      "Biopython (Bio) is a collection of low level bioinformatics tools that enable one to work with sequences.\n",
      "\n",
      "### Exploring an unfamiluar software library\n",
      "\n",
      "Objects created using software libraries are often *complicated*.\n",
      "\n",
      "*Complicated* objects have lots of functionality that is useful, however, it means you need to learn how to use them.  With some practice this is quite easy because the *complicated* objects from useful software libraries are well documented.  \n",
      "\n",
      "**But how do we find the documentation?**\n",
      "\n",
      "Typically you can google the name of the software library together with *API*. *API* means application programming interface, and is the technical documentation of how to use the software (as opposed to tutorial style documentation).  \n",
      "\n",
      "In this case the biopython *API* documentation is found at:\n",
      "\n",
      "http://biopython.org/DIST/docs/api/\n",
      "\n",
      "Beyond the *API* documentation you usually only need the `type` function (see below). \n",
      "\n",
      "One of the primary functions of biopython is to enable one to read in sequences from various file formats.  Below we read in a series of sequences from an example fasta file, but how would we ever have learned how to do this?\n",
      "\n",
      "Explore how to use `Bio.SeqIO`.\n",
      "\n",
      "- Hint: try searching for `SeqIO`\n",
      "- Click on the module documentation `Bio.SeqIO`\n",
      "- Now search for `parse`.\n",
      "\n",
      "#### What we learned from the *API* documentation:\n",
      "\n",
      "- `SeqIO.parse` returns a *iterator* which allows us to access the sequences one by one without reading them all into memory at once."
     ]
    },
    {
     "cell_type": "code",
     "collapsed": false,
     "input": [
      "from Bio import SeqIO\n",
      "from Bio import pairwise2\n",
      "\n",
      "f = open('data/example.fasta', 'rU')\n",
      "seq_gen = SeqIO.parse(f, 'fasta')"
     ],
     "language": "python",
     "metadata": {},
     "outputs": []
    },
    {
     "cell_type": "markdown",
     "metadata": {},
     "source": [
      "We can use the *iterator* to get the first two sequences in `example.fasta`:"
     ]
    },
    {
     "cell_type": "code",
     "collapsed": false,
     "input": [
      "seq0 = seq_gen.next()\n",
      "seq1 = seq_gen.next()"
     ],
     "language": "python",
     "metadata": {},
     "outputs": []
    },
    {
     "cell_type": "markdown",
     "metadata": {},
     "source": [
      "### Sequence alignment\n",
      "\n",
      "Biopython also provides tools to align sequences.  In this case we want to perform a local alignment without introducing any new gaps.  \n",
      "\n",
      "Explore how to use `Bio.pairwise2`.\n",
      "\n",
      "- Hint: search for `pairwise2` in the *API*\n",
      "\n",
      "#### What we learned from the *API* documentation:\n",
      "\n",
      "- Local alignments are provided by the `pairwise2.align.localms` function.\n",
      "- To prevent gaps we supply the local alignment function with `open` and `extend` penalties. \n",
      "- The alignment algorithm provides a list of possible alignments.  These are ordered by score with the best score first.\n",
      "\n",
      "With this information we know to take the first alignment from this list."
     ]
    },
    {
     "cell_type": "code",
     "collapsed": false,
     "input": [
      "match = 2\n",
      "mismatch_penalty = -1\n",
      "open_penalty = -100\n",
      "extend_penalty = -100\n",
      "    \n",
      "alignments = pairwise2.align.localms(seq0, seq1, \n",
      "                                     match, \n",
      "                                     mismatch_penalty, \n",
      "                                     open_penalty, \n",
      "                                     extend_penalty)\n",
      "first_alignment = alignments[0]"
     ],
     "language": "python",
     "metadata": {},
     "outputs": []
    },
    {
     "cell_type": "markdown",
     "metadata": {},
     "source": [
      "Now, we need to learn how to use the output of `pairwise2.align.localms`.  For this we just print out the type of the objects it returns and see what they do using the *API* documentation."
     ]
    },
    {
     "cell_type": "code",
     "collapsed": false,
     "input": [
      "fa = first_alignment \n",
      "\n",
      "print(type(fa))\n",
      "\n",
      "for index, item in enumerate(fa):\n",
      "    print(index, type(item))\n",
      "    \n",
      "print(type(fa[0]))\n",
      "\n",
      "# At this point you need to refer to the API documentation for `Bio.SeqRecord`.  \n",
      "\n",
      "# Now we can check that `seq` returns a `Bio.Seq` object.\n",
      "print(type(fa[0].seq))"
     ],
     "language": "python",
     "metadata": {},
     "outputs": []
    },
    {
     "cell_type": "markdown",
     "metadata": {},
     "source": [
      "#### What we learned from `type`:\n",
      "\n",
      "- Each alignment is a tuple.\n",
      "- The first two elements in the alignment are `Bio.SeqRecord` objects.\n",
      "\n",
      "#### What we learnd from the *API* documentation:\n",
      "\n",
      "- `Bio.SeqRecord` objects contain `Bio.Seq` objects which hold the actual sequence.  \n",
      "- `Bio.Seq` objects provide a method to convert this sequence into a string (`tostring`).\n",
      "\n",
      "### Visualize the alignment\n",
      "\n",
      "To make it easier to visualize the alignment, we can make an HTML table which allows us to both colour differences and break the alignment into managable chunks.  \n",
      "\n",
      "Do you remember how to get help regarding how to use a new function (`make_sequence_table`)?"
     ]
    },
    {
     "cell_type": "code",
     "collapsed": false,
     "input": [
      "import sys\n",
      "sys.path.append('../code/')\n",
      "from tools import make_sequence_table\n",
      "\n",
      "seq0_str = first_alignment[0].seq.tostring()\n",
      "seq1_str = first_alignment[1].seq.tostring()\n",
      "\n",
      "seq_table = make_sequence_table(seq0_str, seq1_str)\n",
      "seq_table"
     ],
     "language": "python",
     "metadata": {},
     "outputs": []
    },
    {
     "cell_type": "markdown",
     "metadata": {},
     "source": [
      "### Follow up exercises:\n",
      "\n",
      "Which sequences from `example.fasta` are the most similuar?\n",
      "\n",
      "Hint:  Try to use the alignment score..."
     ]
    }
   ],
   "metadata": {}
  }
 ]
}