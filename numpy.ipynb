{
 "metadata": {
  "name": "linear_system"
 },
 "nbformat": 3,
 "nbformat_minor": 0,
 "worksheets": [
  {
   "cells": [
    {
     "cell_type": "markdown",
     "metadata": {},
     "source": [
      "## Introduction to `numpy`\n",
      "\n",
      "Numpy provides a matrix library with many powerful tools. We will introduce numpy \n",
      "with a simple example of solving a linear system of equations $A \\cdot x = b$\n",
      "\n",
      "$$\n",
      "\\\\begin{aligned}\n",
      "  3 x_0 + x_1 &amp; = 9 \\\\\\\\\n",
      " x_0 + 2 x_1 &amp; = 8\n",
      "\\\\end{aligned}\n",
      "$$\n",
      "\n",
      "Each column of $A$ is multiplied by one element of $x$:\n",
      "\n",
      "$$\n",
      "x_0 \\\\begin{bmatrix}3 \\\\\\\\1 \\\\end{bmatrix} + \n",
      "x_1 \\\\begin{bmatrix}1 \\\\\\\\2 \\\\end{bmatrix} = \n",
      "\\\\begin{bmatrix}9 \\\\\\\\8 \\\\end{bmatrix}\n",
      "$$\n",
      "\n",
      "In this case:\n",
      "\n",
      "$$A = \\\\begin{bmatrix}3 &amp; 1\\\\\\\\1 &amp; 2\\\\end{bmatrix}$$\n",
      "\n",
      "$$b = \\\\begin{bmatrix}9 \\\\\\\\8 \\\\end{bmatrix}$$\n",
      "\n",
      "Using Python we write:"
     ]
    },
    {
     "cell_type": "code",
     "collapsed": false,
     "input": [
      "import numpy as np\n",
      "\n",
      "A = np.array([[3,1], \n",
      "              [1,2]])\n",
      "\n",
      "b = np.array([9,8])\n",
      "\n",
      "x = np.linalg.solve(A, b)\n",
      "\n",
      "print('solution: x = {}'.format(x))"
     ],
     "language": "python",
     "metadata": {},
     "outputs": []
    },
    {
     "cell_type": "markdown",
     "metadata": {},
     "source": [
      "Please explore the *API* documentation of `numpy.linalg.solve` and `numpy.array`\n",
      "\n",
      "After that we can proceed onto checking the solution.\n",
      "\n",
      "### Checking the solution\n",
      "\n",
      "Note that the operator `==` returns an array in `numpy`.\n",
      "\n",
      "To check if all values of this array are `True` we should use `numpy.ndarray.all`"
     ]
    },
    {
     "cell_type": "code",
     "collapsed": false,
     "input": [
      "left_hand_side = np.dot(A, x)\n",
      "\n",
      "should_be_true = left_hand_side == b\n",
      "\n",
      "print(type(should_be_true))\n",
      "\n",
      "print(should_be_true.all())\n",
      "\n",
      "assert should_be_true.all() == True"
     ],
     "language": "python",
     "metadata": {},
     "outputs": []
    },
    {
     "cell_type": "markdown",
     "metadata": {},
     "source": [
      "### Finding the solution using the matrix inverse\n",
      "\n",
      "First, convert $A$ from a `numpy.ndarray` object into a proper matrix using `numpy.matrix`."
     ]
    },
    {
     "cell_type": "code",
     "collapsed": false,
     "input": [
      "A = np.matrix(A)"
     ],
     "language": "python",
     "metadata": {},
     "outputs": []
    },
    {
     "cell_type": "markdown",
     "metadata": {},
     "source": [
      "Now the inverse of $A$ is found using `.I`:"
     ]
    },
    {
     "cell_type": "code",
     "collapsed": false,
     "input": [
      "A.I"
     ],
     "language": "python",
     "metadata": {},
     "outputs": []
    },
    {
     "cell_type": "markdown",
     "metadata": {},
     "source": [
      "We can also find the inverse of $A$ directly using `numpy.linalg.pinv` which computes the \n",
      "Moore\u2013Penrose pseudoinverse of $A$ (generalized matrix inverse).  Note that `A.I` also provides the pseudoinverse."
     ]
    },
    {
     "cell_type": "code",
     "collapsed": false,
     "input": [
      "np.linalg.pinv(A)"
     ],
     "language": "python",
     "metadata": {},
     "outputs": []
    },
    {
     "cell_type": "markdown",
     "metadata": {},
     "source": [
      "Now we can check if the dot product of `A.I` and `b` is the same as `x`:"
     ]
    },
    {
     "cell_type": "code",
     "collapsed": false,
     "input": [
      "np.dot(A.I, b)"
     ],
     "language": "python",
     "metadata": {},
     "outputs": []
    },
    {
     "cell_type": "markdown",
     "metadata": {},
     "source": [
      "### Plotting functions using `numpy` and `matplotlib`"
     ]
    },
    {
     "cell_type": "code",
     "collapsed": false,
     "input": [
      "import sys\n",
      "sys.path.append('../code/')\n",
      "from tools import show\n",
      "\n",
      "from numpy import pi\n",
      "import matplotlib.pylab as plt\n",
      "\n",
      "x1 = np.arange(-2*pi, +2*pi, 0.1)\n",
      "y1 = np.sin(x1)\n",
      "\n",
      "x2 = np.arange(-pi, pi, 0.5)\n",
      "y2 = np.cos(x2)\n",
      "\n",
      "x3 = np.arange(-pi, pi, 0.1)\n",
      "y3 = np.arctan(x3)\n",
      "\n",
      "fig = plt.figure()\n",
      "plt.hold(True)\n",
      "plt.plot(x1, y1, 'b-', label='sin')\n",
      "plt.plot(x1, y1, 'b.', label='sin points')\n",
      "plt.plot(x2, y2, 'r-', label='cos')\n",
      "plt.plot(x2, y2, 'r.', label='cos points')\n",
      "plt.plot(x3, y3, 'g-', label='arctan')\n",
      "plt.plot(x3, y3, 'g.', label='arctan points')\n",
      "plt.legend()\n",
      "\n",
      "show(fig)"
     ],
     "language": "python",
     "metadata": {},
     "outputs": []
    },
    {
     "cell_type": "markdown",
     "metadata": {},
     "source": [
      "### Array to use in follow up exercises:"
     ]
    },
    {
     "cell_type": "code",
     "collapsed": false,
     "input": [
      "s3 = np.array([6.123456789, 1.5, 4.5, 9.5, 16.5, 25.5, \n",
      "               100, -42.0, 532.5, -81.0, -2.99e2],\n",
      "              dtype=np.float32)\n",
      "s3"
     ],
     "language": "python",
     "metadata": {},
     "outputs": []
    },
    {
     "cell_type": "markdown",
     "metadata": {},
     "source": [
      "### Follow up exercises:\n",
      "\n",
      "- What happens if you set the dtype to each of the following: int8, int16, uint8, uint16, 'S', float16, float32, float64.\n",
      "\n",
      "- Which dtypes work properly?\n",
      "\n",
      "- Which dtypes retain the full precision of the first element (6.123456789)?\n",
      "\n",
      "- Create a figure showing the following functions on the range -5pi to +5pi:\n",
      "   \n",
      "$$\n",
      "\\\\begin{aligned}\n",
      "  f(x) &amp; = x \\\\\\\\\n",
      "  g(x) &amp; = -x \\\\\\\\\n",
      "  h(x) &amp; = sin(x) \\\\\\\\\n",
      "  k(x) &amp; = x \\cdot sin(x) \n",
      "\\\\end{aligned}\n",
      "$$"
     ]
    }
   ],
   "metadata": {}
  }
 ]
}