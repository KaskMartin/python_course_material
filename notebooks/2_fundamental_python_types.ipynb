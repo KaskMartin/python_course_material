{
 "metadata": {
  "name": "",
  "signature": "sha256:fb5dec9099f86df781af4363db308aebf81d8dd68b7bcd74247172d2634c13f3"
 },
 "nbformat": 3,
 "nbformat_minor": 0,
 "worksheets": [
  {
   "cells": [
    {
     "cell_type": "markdown",
     "metadata": {},
     "source": [
      "## Fundamental Python types\n",
      "\n",
      "Python has a number of fundamental types.  Please explore the code below to see what they are."
     ]
    },
    {
     "cell_type": "code",
     "collapsed": false,
     "input": [
      "a = 1; b = 10000000000000000000000000\n",
      "type(a), type(b)"
     ],
     "language": "python",
     "metadata": {},
     "outputs": []
    },
    {
     "cell_type": "code",
     "collapsed": false,
     "input": [
      "c = 1.0\n",
      "type(c)"
     ],
     "language": "python",
     "metadata": {},
     "outputs": []
    },
    {
     "cell_type": "markdown",
     "metadata": {},
     "source": [
      "### The boolean type can contain the values `True` and `False` which always start with capital letters:"
     ]
    },
    {
     "cell_type": "code",
     "collapsed": false,
     "input": [
      "d1 = True\n",
      "d2 = False\n",
      "\n",
      "type(d1)"
     ],
     "language": "python",
     "metadata": {},
     "outputs": []
    },
    {
     "cell_type": "markdown",
     "metadata": {},
     "source": [
      "### Complex numbers are a fundamental type: note the use of `j` to specify the imaginary part"
     ]
    },
    {
     "cell_type": "code",
     "collapsed": false,
     "input": [
      "e = 1.0 - 1.0j\n",
      "type(e)"
     ],
     "language": "python",
     "metadata": {},
     "outputs": []
    },
    {
     "cell_type": "markdown",
     "metadata": {},
     "source": [
      "### The `None` type \n",
      "\n",
      "This type is very commonly used and also starts with a capital `N`.    "
     ]
    },
    {
     "cell_type": "code",
     "collapsed": false,
     "input": [
      "f = None"
     ],
     "language": "python",
     "metadata": {},
     "outputs": []
    },
    {
     "cell_type": "markdown",
     "metadata": {},
     "source": [
      "## All types have properties \n",
      "\n",
      "The variable `c` defined above is an integer type.  This type has the following properties that are accessed with dot notation.  The dot can be thought of as meaning \"get something from the thing on the left\" (in this case `c`).\n",
      " \n",
      "    c.bit_length    c.conjugate    c.denominator    c.imag    c.numerator    c.real\n",
      "    \n",
      "In this case `c.bit_length` is actually a function which must be *called* using round brackets `()`to use (more on functions later)."
     ]
    },
    {
     "cell_type": "code",
     "collapsed": false,
     "input": [
      "c.real, c.bit_length()"
     ],
     "language": "python",
     "metadata": {},
     "outputs": []
    },
    {
     "cell_type": "markdown",
     "metadata": {},
     "source": [
      "## Some properties are hidden\n",
      "\n",
      "Although `f` is a `None` type, it still has hidden properties."
     ]
    },
    {
     "cell_type": "code",
     "collapsed": false,
     "input": [
      "f.__sizeof__()"
     ],
     "language": "python",
     "metadata": {},
     "outputs": []
    },
    {
     "cell_type": "markdown",
     "metadata": {},
     "source": [
      "## Many types have common properties \n",
      "\n",
      "Python has been designed such that its types are as compatible as possible with each other.\n",
      "This is done by giving them common properties so that the same Python code is able to process different types.\n",
      "\n",
      "## Exercise:  Find the common properties between the types listed above"
     ]
    }
   ],
   "metadata": {}
  }
 ]
}