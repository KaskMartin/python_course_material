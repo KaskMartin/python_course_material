{
 "metadata": {
  "name": "",
  "signature": "sha256:d31adcc1302813cbe9bc682ca4610bfcd0d3bf33cb442d7c6cc5bf0b2d5f607a"
 },
 "nbformat": 3,
 "nbformat_minor": 0,
 "worksheets": [
  {
   "cells": [
    {
     "cell_type": "markdown",
     "metadata": {},
     "source": [
      "## Answers to questions raised in unit 7\n",
      "\n",
      "Going through strange code to try and understand it is the very best way of learning new tricks, but often raises questions. This notebook \n",
      "tries to address the questions raised last week in unit 7.\n",
      "\n",
      "### Question 1:\n",
      "\n",
      "_I don't understand this line_:\n",
      "\n",
      "    return set(sequence.upper()) - set(alphabet.letters.upper()) == set()\n",
      "\n",
      "### Response 1:\n",
      "\n",
      "To understand code, one should separate it into discrete chunks that are interpreted in order. In this case there are six separate elements that occur in one line:\n",
      "\n",
      "#### Element 1:\n",
      "\n",
      "The `.upper` string method returns the sequence in upper case:"
     ]
    },
    {
     "cell_type": "code",
     "collapsed": false,
     "input": [
      "sequence = 'abcd'\n",
      "sequence.upper()"
     ],
     "language": "python",
     "metadata": {},
     "outputs": [
      {
       "metadata": {},
       "output_type": "pyout",
       "prompt_number": 1,
       "text": [
        "'ABCD'"
       ]
      }
     ],
     "prompt_number": 1
    },
    {
     "cell_type": "markdown",
     "metadata": {},
     "source": [
      "#### Element 2:\n",
      "This element takes the letters attribute from the alphabet and returns them in upper case:"
     ]
    },
    {
     "cell_type": "code",
     "collapsed": false,
     "input": [
      "from Bio.Alphabet import IUPAC\n",
      "alphabet = IUPAC.ambiguous_rna\n",
      "alphabet.letters.upper() "
     ],
     "language": "python",
     "metadata": {},
     "outputs": [
      {
       "metadata": {},
       "output_type": "pyout",
       "prompt_number": 2,
       "text": [
        "'GAUCRYWSMKHBVDN'"
       ]
      }
     ],
     "prompt_number": 2
    },
    {
     "cell_type": "markdown",
     "metadata": {},
     "source": [
      "#### Element 3: \n",
      "The `set` function takes a sequence or iterable and turns it into a set:"
     ]
    },
    {
     "cell_type": "code",
     "collapsed": false,
     "input": [
      "iterable = 'A string is an iterable.'\n",
      "set(iterable)"
     ],
     "language": "python",
     "metadata": {},
     "outputs": [
      {
       "metadata": {},
       "output_type": "pyout",
       "prompt_number": 3,
       "text": [
        "{' ', '.', 'A', 'a', 'b', 'e', 'g', 'i', 'l', 'n', 'r', 's', 't'}"
       ]
      }
     ],
     "prompt_number": 3
    },
    {
     "cell_type": "markdown",
     "metadata": {},
     "source": [
      "Note that A set only contains unique members and the order does not matter.\n",
      "\n",
      "#### Element 4:\n",
      "\n",
      "If `A` is a set and `B` is a set we can compute the difference between sets. The difference between sets means we find all members in `A` that do not appear in `B`. The difference can be computed in two ways:"
     ]
    },
    {
     "cell_type": "code",
     "collapsed": false,
     "input": [
      "A = set('Any iterable')\n",
      "B = set('iterable B')\n",
      "\n",
      "# This method is prefered when it is not clear what A and B are\n",
      "A.difference(B) \n",
      "\n",
      "# This method is used here because it is more readable in this case:\n",
      "A - B"
     ],
     "language": "python",
     "metadata": {},
     "outputs": [
      {
       "metadata": {},
       "output_type": "pyout",
       "prompt_number": 4,
       "text": [
        "{'A', 'n', 'y'}"
       ]
      }
     ],
     "prompt_number": 4
    },
    {
     "cell_type": "markdown",
     "metadata": {},
     "source": [
      "#### Element 5: \n",
      "\n",
      "This evaluates to `True` if `A` has the same members as `B`:"
     ]
    },
    {
     "cell_type": "code",
     "collapsed": false,
     "input": [
      "A == B    "
     ],
     "language": "python",
     "metadata": {},
     "outputs": [
      {
       "metadata": {},
       "output_type": "pyout",
       "prompt_number": 5,
       "text": [
        "False"
       ]
      }
     ],
     "prompt_number": 5
    },
    {
     "cell_type": "markdown",
     "metadata": {},
     "source": [
      "#### Element 6: \n",
      "\n",
      "The final element returns the result of element 5 when the function is called:\n",
      "\n",
      "    return result"
     ]
    },
    {
     "cell_type": "markdown",
     "metadata": {},
     "source": [
      "### Question 2:\n",
      "\n",
      "_Why do we use method A and B (and C)? Sometimes it seams that only one method is sufficient to use_\n",
      "\n",
      "### Response 2:\n",
      "\n",
      "I included all answers provided by all learners as different methods.\n",
      "In this way people can compare the code for different methods so that \n",
      "they can learn different ways of accomplishing the same thing. \n",
      "The test methods prove that all methods are equivalent. \n",
      "\n",
      "### Question 3:\n",
      "\n",
      "_I have trouble understanding built in function_ `enumarate()`.\n",
      "\n",
      "### Response 3:\n",
      "\n",
      "Here is the documentation for the `enumerate` function:\n",
      "\n",
      "[`https://docs.python.org/3/library/functions.html#enumerate`](https://docs.python.org/3/library/functions.html#enumerate)\n",
      "\n",
      "There are a number of quirks to this function:\n",
      "\n",
      "#### The function enumerate returns a generator  \n",
      "\n",
      "`enumerate` is equivalent to:"
     ]
    },
    {
     "cell_type": "code",
     "collapsed": false,
     "input": [
      "def enumerate(sequence, start=0):\n",
      "    n = start\n",
      "    for elem in sequence:\n",
      "        yield n, elem\n",
      "        n += 1"
     ],
     "language": "python",
     "metadata": {},
     "outputs": [],
     "prompt_number": 6
    },
    {
     "cell_type": "markdown",
     "metadata": {},
     "source": [
      "The enumerate function uses the `yield` keyword to create a generator. \n",
      "\n",
      "[`https://docs.python.org/3/reference/expressions.html#yield-expressions`](https://docs.python.org/3/reference/expressions.html#yield-expressions)\n",
      "\n",
      "\n",
      "A generator is an object we can iterate over exactly one time. \n",
      "This contrasts with a list or other container that can be iterated over \n",
      "as many times as one desires.  Consider the following example:  "
     ]
    },
    {
     "cell_type": "code",
     "collapsed": false,
     "input": [
      "# Note that round brackets are used.\n",
      "my_generator = (x*x for x in range(3))\n",
      "\n",
      "# Note that square brackets are used.\n",
      "my_list = [x*x for x in range(3)]       \n",
      "\n",
      "for item in my_generator:\n",
      "    print('Generator item:', item)\n",
      "\n",
      "for item in my_list:\n",
      "    print('List item:', item)\n",
      "\n",
      "for item in my_generator:\n",
      "    print('This should never be printed out.')\n",
      "\n",
      "for item in my_list:\n",
      "    print('Second time through list:', item) "
     ],
     "language": "python",
     "metadata": {},
     "outputs": [
      {
       "output_type": "stream",
       "stream": "stdout",
       "text": [
        "Generator item: 0\n",
        "Generator item: 1\n",
        "Generator item: 4\n",
        "List item: 0\n",
        "List item: 1\n",
        "List item: 4\n",
        "Second time through list: 0\n",
        "Second time through list: 1\n",
        "Second time through list: 4\n"
       ]
      }
     ],
     "prompt_number": 7
    },
    {
     "cell_type": "markdown",
     "metadata": {},
     "source": [
      "#### The `enumerate` function returns a two tuple\n",
      "\n",
      "The `enumerate` function returns items from an iterable one at a time together with the value of a counter that starts at start. If the default `start=0` is used, the value of the counter is the same as the index used to access items from this iterable, if that iterable supports retrieval by index."
     ]
    },
    {
     "cell_type": "code",
     "collapsed": false,
     "input": [
      "list(enumerate('ABCD'))"
     ],
     "language": "python",
     "metadata": {},
     "outputs": [
      {
       "metadata": {},
       "output_type": "pyout",
       "prompt_number": 8,
       "text": [
        "[(0, 'A'), (1, 'B'), (2, 'C'), (3, 'D')]"
       ]
      }
     ],
     "prompt_number": 8
    },
    {
     "cell_type": "markdown",
     "metadata": {},
     "source": [
      "### Question 4:\n",
      "\n",
      "_The following code is difficult to understand because the `assert` keyword uses two parameters and the loop uses the enumarate() function_"
     ]
    },
    {
     "cell_type": "code",
     "collapsed": false,
     "input": [
      "new_seq = 'AAAABBBBCCCC'\n",
      "\n",
      "# Has only one base that is different from new_seq.\n",
      "# In this case the assert statement is passed silently.\n",
      "random_sequence = 'AAAABBBBCCDC' \n",
      "\n",
      "# Has more than one base that is different from new_seq.\n",
      "# In this case the assert is not passed.\n",
      "#random_sequence = 'ADAABBBBCCDC'\n",
      "\n",
      "N_differences = 0\n",
      "for index, base in enumerate(new_seq):\n",
      "    if base != random_sequence[index]:\n",
      "        N_differences += 1\n",
      "\n",
      "assert N_differences == 1, N_differences"
     ],
     "language": "python",
     "metadata": {},
     "outputs": [],
     "prompt_number": 9
    },
    {
     "cell_type": "markdown",
     "metadata": {},
     "source": [
      "### Response 4:\n",
      "\n",
      "Assuming we now understand the `enumerate` function from response 3, we can focus on only two elements of this code.\n",
      "\n",
      "#### Element 1:  The counting loop\n",
      "\n",
      "Let us rewrite this a little bit to help us understand what is going on:"
     ]
    },
    {
     "cell_type": "code",
     "collapsed": false,
     "input": [
      "new_seq = 'AAAABBBBCCCC'\n",
      "random_sequence = 'AAAABBBBCCDC' \n",
      "\n",
      "N_differences = 0\n",
      "for index, base in enumerate(new_seq):\n",
      "    other_base = random_sequence[index]\n",
      "        \n",
      "    print('Comparing original index {} (base {})'.format(index, base) + \n",
      "          ' to random index {} (base {}).'.format(index, other_base))\n",
      "    \n",
      "    if base != other_base:\n",
      "        \n",
      "        print('   Bases are different. Adding 1 to N_differences')\n",
      "        N_differences += 1\n",
      "\n",
      "print('N_differences =', N_differences)"
     ],
     "language": "python",
     "metadata": {},
     "outputs": [
      {
       "output_type": "stream",
       "stream": "stdout",
       "text": [
        "Comparing original index 0 (base A) to random index 0 (base A).\n",
        "Comparing original index 1 (base A) to random index 1 (base A).\n",
        "Comparing original index 2 (base A) to random index 2 (base A).\n",
        "Comparing original index 3 (base A) to random index 3 (base A).\n",
        "Comparing original index 4 (base B) to random index 4 (base B).\n",
        "Comparing original index 5 (base B) to random index 5 (base B).\n",
        "Comparing original index 6 (base B) to random index 6 (base B).\n",
        "Comparing original index 7 (base B) to random index 7 (base B).\n",
        "Comparing original index 8 (base C) to random index 8 (base C).\n",
        "Comparing original index 9 (base C) to random index 9 (base C).\n",
        "Comparing original index 10 (base C) to random index 10 (base D).\n",
        "   Bases are different. Adding 1 to N_differences\n",
        "Comparing original index 11 (base C) to random index 11 (base C).\n",
        "N_differences = 1\n"
       ]
      }
     ],
     "prompt_number": 10
    },
    {
     "cell_type": "markdown",
     "metadata": {},
     "source": [
      "This use of `enumerate` allows us to retrieve the base from `random_sequence` that is in the same position as `new_seq`.\n",
      "\n",
      "If these bases are different we add it to the total number of differences (N_differences)."
     ]
    },
    {
     "cell_type": "markdown",
     "metadata": {},
     "source": [
      "#### Element 2: The `assert` statement\n",
      "\n",
      "[`https://docs.python.org/3/reference/simple_stmts.html#grammar-token-assert_stmt`](https://docs.python.org/3/reference/simple_stmts.html#grammar-token-assert_stmt)\n",
      "\n",
      "The `assert` statement can be given either one or two expressions as \n",
      "such:"
     ]
    },
    {
     "cell_type": "code",
     "collapsed": false,
     "input": [
      "expression1 = 2 == 1+1\n",
      "expression2 = 1*4/(3-6**4)%99\n",
      "\n",
      "assert expression1\n",
      "assert expression1, expression2 \n",
      "assert(expression1)\n",
      "assert(expression1), expression2"
     ],
     "language": "python",
     "metadata": {},
     "outputs": [],
     "prompt_number": 11
    },
    {
     "cell_type": "markdown",
     "metadata": {},
     "source": [
      "Note that the second expression can be a tuple of other expressions:"
     ]
    },
    {
     "cell_type": "code",
     "collapsed": false,
     "input": [
      "assert expression1, (expression2)\n",
      "assert(expression1), (expression2)\n",
      "assert(expression1), (expression1, expression2, 'Or more...')"
     ],
     "language": "python",
     "metadata": {},
     "outputs": [],
     "prompt_number": 12
    },
    {
     "cell_type": "markdown",
     "metadata": {},
     "source": [
      "If only one expression is given to an `assert` statement and this evaluates to `False`, an `AssertionError` is raised without any arguments:"
     ]
    },
    {
     "cell_type": "code",
     "collapsed": false,
     "input": [
      "if not expression1:\n",
      "    raise AssertionError"
     ],
     "language": "python",
     "metadata": {},
     "outputs": [],
     "prompt_number": 13
    },
    {
     "cell_type": "markdown",
     "metadata": {},
     "source": [
      "If two expressions are given to an `assert` statement, an `AssertionError` is raised with `expression2` as the argument:"
     ]
    },
    {
     "cell_type": "code",
     "collapsed": false,
     "input": [
      "if not expression1:\n",
      "    raise AssertionError(expression2)"
     ],
     "language": "python",
     "metadata": {},
     "outputs": [],
     "prompt_number": 14
    },
    {
     "cell_type": "markdown",
     "metadata": {},
     "source": [
      "### Question 5:\n",
      "\n",
      "_This part is also difficult to understand:_\n",
      "\n",
      "    def test_sequence_content_fraction():\n",
      "        f_A = sequence_content_fraction('AAABBBCCC', 'BC', 'ABC', method='A')\n",
      "        f_B = sequence_content_fraction('AAABBBCCC', 'BC', 'ABC', method='B')\n",
      "        f_C = sequence_content_fraction('AAABBBCCC', 'BC', 'ABC', method='C')\n",
      "\n",
      "        # This is how you should check if two floats have the same \n",
      "        # (the values must be close, but not exactly the same)\n",
      "        assert abs(f_A - f_B) < 1e-12\n",
      "        assert abs(f_A - f_C) < 1e-12\n",
      "        print('Test OK.')\n",
      "    test_sequence_content_fraction()"
     ]
    },
    {
     "cell_type": "code",
     "collapsed": false,
     "input": [
      "# We need a dummy function to explain this code:\n",
      "def sequence_content_fraction(*args, **kwds):\n",
      "    import random\n",
      "    almost_the_same = 0.654 + 1e-14 * random.random()\n",
      "    print('Returning sequence_content_fraction:', almost_the_same)\n",
      "    return almost_the_same \n",
      "\n",
      "def test_sequence_content_fraction():\n",
      "    f_A = sequence_content_fraction('AAABBBCCC', 'BC', 'ABC', method='A')\n",
      "    f_B = sequence_content_fraction('AAABBBCCC', 'BC', 'ABC', method='B')\n",
      "    f_C = sequence_content_fraction('AAABBBCCC', 'BC', 'ABC', method='C')\n",
      "\n",
      "    # This is how you should check if two floats have the same \n",
      "    # (the values must be close, but not exactly the same)\n",
      "    assert abs(f_A - f_B) < 1e-12\n",
      "    assert abs(f_A - f_C) < 1e-12\n",
      "    print('Test OK.')\n",
      "    \n",
      "test_sequence_content_fraction()"
     ],
     "language": "python",
     "metadata": {},
     "outputs": [
      {
       "output_type": "stream",
       "stream": "stdout",
       "text": [
        "Returning sequence_content_fraction: 0.6540000000000066\n",
        "Returning sequence_content_fraction: 0.6540000000000087\n",
        "Returning sequence_content_fraction: 0.6540000000000086\n",
        "Test OK.\n"
       ]
      }
     ],
     "prompt_number": 15
    },
    {
     "cell_type": "markdown",
     "metadata": {},
     "source": [
      "This code runs the function `sequence_content_fraction` three times and stores the results in `f_A`, `f_B`, and `f_C`.\n",
      "\n",
      "The `assert` statements check the question \"Are these number close to within machine precision?\" using the following expressions:"
     ]
    },
    {
     "cell_type": "code",
     "collapsed": false,
     "input": [
      "f_A = float('0.6540000000000082') # Your numbers may be different..\n",
      "f_B = float('0.6540000000000096')\n",
      "f_C = float('0.6540000000000085')\n",
      "\n",
      "expressionA = abs(f_A - f_B) < 1e-12\n",
      "expressionB = abs(f_A - f_C) < 1e-12"
     ],
     "language": "python",
     "metadata": {},
     "outputs": [],
     "prompt_number": 16
    },
    {
     "cell_type": "markdown",
     "metadata": {},
     "source": [
      "The `abs` function is required to avoid the following error in logic:"
     ]
    },
    {
     "cell_type": "code",
     "collapsed": false,
     "input": [
      "f_A = 0.25\n",
      "f_B = 500000\n",
      "\n",
      "# This evaluates to True even though the numbers are not close.\n",
      "print(f_A - f_B < 1e-12)  \n",
      "\n",
      "# This correctly evaluates to False (numbers are not close.)\n",
      "print(abs(f_A - f_B) < 1e-12)"
     ],
     "language": "python",
     "metadata": {},
     "outputs": [
      {
       "output_type": "stream",
       "stream": "stdout",
       "text": [
        "True\n",
        "False\n"
       ]
      }
     ],
     "prompt_number": 17
    }
   ],
   "metadata": {}
  }
 ]
}