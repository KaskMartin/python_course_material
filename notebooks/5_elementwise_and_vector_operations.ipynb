{
 "metadata": {
  "name": "",
  "signature": "sha256:59340b7a3c88d65bb548469f9f3a93f9997a073f1909d49d907b186b0de5150e"
 },
 "nbformat": 3,
 "nbformat_minor": 0,
 "worksheets": [
  {
   "cells": [
    {
     "cell_type": "markdown",
     "metadata": {},
     "source": [
      "# Speeding up Python code using elementwise computation\n",
      "\n",
      "Standard Python is fast enough to satisfy the computational \n",
      "needs of most users. However, some problems require even more \n",
      "rapid computation. One technique for speeding up computational \n",
      "speed is performing calculations `elementwise` using arrays.\n",
      "\n",
      "To illustrate how effective this technique can be, we will use \n",
      "a function to help us compare the computational time of performing \n",
      "the same calculation different ways."
     ]
    },
    {
     "cell_type": "code",
     "collapsed": false,
     "input": [
      "import time\n",
      "\n",
      "def time_it(msg='', verbose=True, start=False):\n",
      "    '''\n",
      "    Used to output the time difference between calls to time_it.\n",
      "    \n",
      "    Parameters\n",
      "    ==========\n",
      "    msg : str (optional)\n",
      "          This message will be printed before the time value in seconds\n",
      "          \n",
      "    verbose: boolean (optional, default=True)\n",
      "             If True, the function will print out the message and time.\n",
      "             \n",
      "    start : boolean\n",
      "            If True, an initial time is stored in a global variable.\n",
      "            \n",
      "    Returns\n",
      "    =======\n",
      "    time_difference : float\n",
      "                      The time difference in seconds as a floating point value.\n",
      "    '''\n",
      "    def _set_start():\n",
      "        global _start_time_for_timing\n",
      "        _start_time_for_timing = time.time() \n",
      "        if verbose and start:\n",
      "            print('Setting initial time to {} seconds past epoch.'.format(_start_time_for_timing))\n",
      "        \n",
      "    if start:\n",
      "        _set_start()\n",
      "        \n",
      "    elif '_start_time_for_timing' in globals():\n",
      "        dt = time.time() - _start_time_for_timing\n",
      "        \n",
      "        if verbose:\n",
      "            print('{} {:.4f} seconds'.format(msg, dt))\n",
      "            \n",
      "        _set_start()\n",
      "        return dt\n",
      "        \n",
      "    else:              \n",
      "        raise UserWarning(\"Start time not set.\")"
     ],
     "language": "python",
     "metadata": {},
     "outputs": [],
     "prompt_number": 1
    },
    {
     "cell_type": "markdown",
     "metadata": {},
     "source": [
      "### Use numpy to perform elementwise calculations\n",
      "\n",
      "The Python package `numpy` is widely used by the Python \n",
      "community to perform both elementwise and matrix \n",
      "calculations in Python. The `numpy` package provides an\n",
      "array type, `numpy.ndarray`, that redefines almost all \n",
      "basic Python operations such as `+` and `+=` to work on \n",
      "entire arrays instead of single objects. \n",
      "\n",
      "Now let us see how this can speed up calculation time:"
     ]
    },
    {
     "cell_type": "code",
     "collapsed": false,
     "input": [
      "import numpy as np\n",
      "\n",
      "# Set the array length\n",
      "N = 5000000\n",
      "\n",
      "python_list = [1] * N\n",
      "numpy_array = np.ones(N)\n",
      "\n",
      "print('Add 1 to each element:\\n')\n",
      "\n",
      "time_it(start=True, verbose=False)\n",
      "\n",
      "for index, item in enumerate(python_list):\n",
      "    python_list[index] += 1\n",
      "dtA = time_it('A) Using a Python loop:')\n",
      "\n",
      "python_list = [item + 1 for item in python_list]\n",
      "dtB = time_it('B) Using a Python list comprehension:')\n",
      "\n",
      "python_list = [1] * N\n",
      "python_list = [item + 1 for item in python_list]\n",
      "dtC = time_it('C) Using a Python list comprehension (including list creation):')\n",
      "\n",
      "python_list = list(map(lambda a: a + 1, python_list))\n",
      "dtD = time_it('D) Using Python iterators:')\n",
      "\n",
      "numpy_array = numpy_array + 1\n",
      "dtE = time_it('E) The elementwise way using numpy:')\n",
      "\n",
      "numpy_array = np.ones(N)\n",
      "numpy_array = numpy_array + 1\n",
      "dtF = time_it('F) The elementwise way using numpy (including array creation):')\n",
      "\n",
      "numpy_array += 1\n",
      "dtG = time_it('G) The fancy elementwise way using numpy:')\n",
      "\n",
      "numpy_array = np.ones(N)\n",
      "numpy_array += 1\n",
      "dtH = time_it('H) The fancy elementwise way using numpy (including array creation):')\n",
      "\n",
      "print('\\nConclusion:\\n\\tThe fastest Python method is using a list comprehension: {:.4f} seconds.'.format(dtB))\n",
      "\n",
      "print('\\nConclusion:\\n\\tThe fastest elementwise method is the fancy way (with +=): {:.4f} seconds.'.format(dtG))\n",
      "\n",
      "print('\\nConclusion:\\n\\tThe fastest elementwise approach including array creation is {:.0f} times faster'.format(dtC/dtH) +\\\n",
      "      '\\n\\tthan the fastest native Python approach including list creation.')\n",
      "\n",
      "print('\\nConclusion:\\n\\tThe fastest elementwise approach is {:.0f} times faster'.format(dtB/dtG) +\\\n",
      "      '\\n\\tthan the fastest native Python approach.')\n",
      "\n",
      "print('\\nFinal conclusion:\\n\\tElementwise operations can speed up your code significantly and the speed up' \n",
      "      '\\n\\tis more dramatic if the array object is used for more than one elementwise operation.')"
     ],
     "language": "python",
     "metadata": {},
     "outputs": [
      {
       "output_type": "stream",
       "stream": "stdout",
       "text": [
        "Add 1 to each element:\n",
        "\n",
        "A) Using a Python loop: 1.2244 seconds"
       ]
      },
      {
       "output_type": "stream",
       "stream": "stdout",
       "text": [
        "\n",
        "B) Using a Python list comprehension: 0.3227 seconds"
       ]
      },
      {
       "output_type": "stream",
       "stream": "stdout",
       "text": [
        "\n",
        "C) Using a Python list comprehension (including list creation): 0.4364 seconds"
       ]
      },
      {
       "output_type": "stream",
       "stream": "stdout",
       "text": [
        "\n",
        "D) Using Python iterators: 0.8780 seconds"
       ]
      },
      {
       "output_type": "stream",
       "stream": "stdout",
       "text": [
        "\n",
        "E) The elementwise way using numpy: 0.0419 seconds\n",
        "F) The elementwise way using numpy (including array creation): 0.0793 seconds"
       ]
      },
      {
       "output_type": "stream",
       "stream": "stdout",
       "text": [
        "\n",
        "G) The fancy elementwise way using numpy: 0.0101 seconds\n",
        "H) The fancy elementwise way using numpy (including array creation): 0.0485 seconds"
       ]
      },
      {
       "output_type": "stream",
       "stream": "stdout",
       "text": [
        "\n",
        "\n",
        "Conclusion:\n",
        "\tThe fastest Python method is using a list comprehension: 0.3227 seconds.\n",
        "\n",
        "Conclusion:\n",
        "\tThe fastest elementwise method is the fancy way (with +=): 0.0101 seconds.\n",
        "\n",
        "Conclusion:\n",
        "\tThe fastest elementwise approach including array creation is 9 times faster\n",
        "\tthan the fastest native Python approach including list creation.\n",
        "\n",
        "Conclusion:\n",
        "\tThe fastest elementwise approach is 32 times faster\n",
        "\tthan the fastest native Python approach.\n",
        "\n",
        "Final conclusion:\n",
        "\tElementwise operations can speed up your code significantly and the speed up\n",
        "\tis more dramatic if the array object is used for more than one elementwise operation.\n"
       ]
      }
     ],
     "prompt_number": 2
    },
    {
     "cell_type": "markdown",
     "metadata": {},
     "source": [
      "### A few examples of how one can use elementwise operations\n",
      "\n",
      "These look like normal Python expressions, and thereby make your \n",
      "code more readable:"
     ]
    },
    {
     "cell_type": "code",
     "collapsed": false,
     "input": [
      "N = 10\n",
      "\n",
      "print('Make {} spheres with random radii between 0 and 1:\\n'.format(N))\n",
      "radii = np.random.rand(N)\n",
      "volume = 4/3*3.14159*radii**3\n",
      "\n",
      "for v, r in zip(volume, radii):\n",
      "    print('\\tVolume: {:<8.5f} Radii: {:.3f}'.format(v, r))   "
     ],
     "language": "python",
     "metadata": {},
     "outputs": [
      {
       "output_type": "stream",
       "stream": "stdout",
       "text": [
        "Make 10 spheres with random radii between 0 and 1:\n",
        "\n",
        "\tVolume: 1.56732  Radii: 0.721\n",
        "\tVolume: 0.95730  Radii: 0.611\n",
        "\tVolume: 0.00336  Radii: 0.093\n",
        "\tVolume: 0.78253  Radii: 0.572\n",
        "\tVolume: 1.33100  Radii: 0.682\n",
        "\tVolume: 0.15701  Radii: 0.335\n",
        "\tVolume: 3.29910  Radii: 0.923\n",
        "\tVolume: 0.24541  Radii: 0.388\n",
        "\tVolume: 0.03305  Radii: 0.199\n",
        "\tVolume: 0.25514  Radii: 0.393\n"
       ]
      }
     ],
     "prompt_number": 3
    },
    {
     "cell_type": "code",
     "collapsed": false,
     "input": [
      "N = 10\n",
      "\n",
      "print('\\nScale and offset {} random xyz coordinates:\\n'.format(N))\n",
      "random_coords = np.random.rand(N, 3)\n",
      "\n",
      "# Offset all coordinates to span +/- 0.5 of the origin\n",
      "offset_coords = random_coords - 0.5\n",
      "\n",
      "# Scale all coordinates to lie between -1 and +1\n",
      "scale_coords = offset_coords / 0.5\n",
      "\n",
      "line_tmpl = '{:<30}{:<30}{:<30}'\n",
      "coord_tmpl = '({:.3f}, {:.3f}, {:.3f})'\n",
      "\n",
      "print(line_tmpl.format('Random (0 to 1)', 'Offset (-0.5 to 0.5)', 'Scaled (-1 to 1)'))\n",
      "for rc, oc, sc in zip(random_coords, offset_coords, scale_coords):\n",
      "    print(line_tmpl.format(coord_tmpl.format(*rc),              \n",
      "                           coord_tmpl.format(*oc),\n",
      "                           coord_tmpl.format(*sc)))"
     ],
     "language": "python",
     "metadata": {},
     "outputs": [
      {
       "output_type": "stream",
       "stream": "stdout",
       "text": [
        "\n",
        "Scale and offset 10 random xyz coordinates:\n",
        "\n",
        "Random (0 to 1)               Offset (-0.5 to 0.5)          Scaled (-1 to 1)              \n",
        "(0.295, 0.163, 0.703)         (-0.205, -0.337, 0.203)       (-0.411, -0.674, 0.406)       \n",
        "(0.076, 0.861, 0.658)         (-0.424, 0.361, 0.158)        (-0.848, 0.723, 0.315)        \n",
        "(0.113, 0.778, 0.372)         (-0.387, 0.278, -0.128)       (-0.775, 0.555, -0.256)       \n",
        "(0.908, 0.475, 0.485)         (0.408, -0.025, -0.015)       (0.817, -0.050, -0.029)       \n",
        "(0.405, 0.482, 0.945)         (-0.095, -0.018, 0.445)       (-0.190, -0.036, 0.889)       \n",
        "(0.356, 0.736, 0.336)         (-0.144, 0.236, -0.164)       (-0.289, 0.471, -0.328)       \n",
        "(0.894, 0.404, 0.541)         (0.394, -0.096, 0.041)        (0.788, -0.192, 0.082)        \n",
        "(0.040, 0.697, 0.830)         (-0.460, 0.197, 0.330)        (-0.920, 0.394, 0.661)        \n",
        "(0.884, 0.336, 0.950)         (0.384, -0.164, 0.450)        (0.768, -0.327, 0.900)        \n",
        "(0.378, 0.059, 0.771)         (-0.122, -0.441, 0.271)       (-0.244, -0.883, 0.542)       \n"
       ]
      }
     ],
     "prompt_number": 4
    },
    {
     "cell_type": "markdown",
     "metadata": {},
     "source": [
      "### Now we should look at actual vector operations using coordinates\n",
      "\n",
      "The vector operations below are provided to illustrate the difference \n",
      "between these and the elementwise operations above."
     ]
    },
    {
     "cell_type": "code",
     "collapsed": false,
     "input": [
      "coord_A = np.array([1,2,3])\n",
      "coord_B = np.array([6,5,4])\n",
      "\n",
      "print('Operations on coordinates A{} and B{}:\\n'.format(coord_A, coord_B))\n",
      "\n",
      "print('Dot product: {}'.format(coord_A.dot(coord_B)))\n",
      "print('Distance between points: {:.3f}'.format(np.linalg.norm(coord_A - coord_B)))\n",
      "print('Cross product: {}'.format(np.cross(coord_A, coord_B)))\n",
      "print('Scalar product (elementwise operation): {}'.format(coord_A * coord_B))"
     ],
     "language": "python",
     "metadata": {},
     "outputs": [
      {
       "output_type": "stream",
       "stream": "stdout",
       "text": [
        "Operations on coordinates A[1 2 3] and B[6 5 4]:\n",
        "\n",
        "Dot product: 28\n",
        "Distance between points: 5.916\n",
        "Cross product: [-7 14 -7]\n",
        "Scalar product (elementwise operation): [ 6 10 12]\n"
       ]
      }
     ],
     "prompt_number": 5
    },
    {
     "cell_type": "markdown",
     "metadata": {},
     "source": [
      "### Real world example calculation\n",
      "\n",
      "Lucas, Mia, Leon and Hannah each bought different quantities of three different chocolate varieties. \n",
      "\n",
      "The brand names are A, B and C. \n",
      "\n",
      "Lucas bought 100 g of brand A, 175 g of brand B and 210 of C.\n",
      "Mia choose 90 g of A, 160 g of B and 150 g of C. \n",
      "Leon bought 200 g of A, 50 of B and 100 g of C. \n",
      "Hannah didn't purchase brand B, but did purchase 310 g of C and 120 g of A.\n",
      "\n",
      "A costs 2.98\u20ac per 100 g.\n",
      "B costs 3.90\u20ac per 100 g.\n",
      "C costs 1.99\u20ac per 100 g. \n",
      "\n",
      "To calculate how much each of them paid for their chocolates, we can use Python, NumPy and Matrix multiplication."
     ]
    },
    {
     "cell_type": "code",
     "collapsed": false,
     "input": [
      "import numpy as np\n",
      "\n",
      "# Each column is a chocolate variety and each row is a person.\n",
      "mass_matrix = np.array([[100, 175, 210], \n",
      "                        [90, 160, 150], \n",
      "                        [200, 50, 100], \n",
      "                        [120, 0, 310]])\n",
      "print('Numpy mass_matrix:')\n",
      "print(mass_matrix)\n",
      "print()\n",
      "\n",
      "# The columns are the same chocolate varieties as the mass_matrix.\n",
      "cost_per_100g = np.array([2.98, 3.90, 1.99])\n",
      "print('Numpy cost matrix:')\n",
      "print(cost_per_100g)\n",
      "print()\n",
      "\n",
      "# Matrix calculation using numpy:\n",
      "money_spent_in_cents = np.dot(mass_matrix, cost_per_100g)\n",
      "money_spent_in_euros = money_spent_in_cents / np.array([100] * 4)\n",
      "print('Numpy solution:')\n",
      "print(money_spent_in_euros)\n",
      "print()"
     ],
     "language": "python",
     "metadata": {},
     "outputs": [
      {
       "output_type": "stream",
       "stream": "stdout",
       "text": [
        "Numpy mass_matrix:\n",
        "[[100 175 210]\n",
        " [ 90 160 150]\n",
        " [200  50 100]\n",
        " [120   0 310]]\n",
        "\n",
        "Numpy cost matrix:\n",
        "[ 2.98  3.9   1.99]\n",
        "\n",
        "Numpy solution:\n",
        "[ 13.984  11.907   9.9     9.745]\n",
        "\n"
       ]
      }
     ],
     "prompt_number": 6
    },
    {
     "cell_type": "markdown",
     "metadata": {},
     "source": [
      "### Using pandas for the same task\n",
      "\n",
      "To supplement Numpy matrix calculation, we can use Pandas for better visualization of the answer:"
     ]
    },
    {
     "cell_type": "code",
     "collapsed": false,
     "input": [
      "import pandas as pd\n",
      "\n",
      "# Using a pandas.DataFrame object, we can keep track of the names of columns and rows:\n",
      "chocolate_brands = ['A', 'B', 'C']\n",
      "names_of_people = ['Lucas', 'Mia', 'Leon', 'Hannah']\n",
      "\n",
      "# pandas.DataFrame version of mass_matrix:\n",
      "mass_df = pd.DataFrame(mass_matrix, columns=chocolate_brands, index=names_of_people)\n",
      "print('Pandas mass matrix:')\n",
      "print(mass_df)\n",
      "print()\n",
      "\n",
      "# pandas.DataFrame version of cost matrix:\n",
      "cost_df = pd.DataFrame(cost_per_100g, index=chocolate_brands, columns=['Cost in euros per 100g'])\n",
      "print('Pandas cost matrix:')\n",
      "print(cost_df)\n",
      "print()\n",
      "\n",
      "# Matrix calculation using pandas:\n",
      "# NB!: The columns of the left matrix must match the index values of the right matrix.\n",
      "money_spent_df = mass_df.dot(cost_df)\n",
      "money_spent_df.columns = ['Money spent in euro cents']\n",
      "money_spent_df['Money spent in euros'] = money_spent_df['Money spent in euro cents'] / 100\n",
      "\n",
      "print('Pandas solution:')\n",
      "print(money_spent_df)"
     ],
     "language": "python",
     "metadata": {},
     "outputs": [
      {
       "output_type": "stream",
       "stream": "stdout",
       "text": [
        "Pandas mass matrix:\n",
        "          A    B    C\n",
        "Lucas   100  175  210\n",
        "Mia      90  160  150\n",
        "Leon    200   50  100\n",
        "Hannah  120    0  310\n",
        "\n",
        "Pandas cost matrix:\n",
        "   Cost in euros per 100g\n",
        "A                    2.98\n",
        "B                    3.90\n",
        "C                    1.99\n",
        "\n",
        "Pandas solution:\n",
        "        Money spent in euro cents  Money spent in euros\n",
        "Lucas                      1398.4                13.984\n",
        "Mia                        1190.7                11.907\n",
        "Leon                        990.0                 9.900\n",
        "Hannah                      974.5                 9.745\n"
       ]
      }
     ],
     "prompt_number": 7
    }
   ],
   "metadata": {}
  }
 ]
}