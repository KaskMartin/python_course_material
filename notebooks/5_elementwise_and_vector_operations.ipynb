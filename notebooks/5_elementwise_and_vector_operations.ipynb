{
 "metadata": {
  "name": "",
  "signature": "sha256:0041b14882a9a38d59e866a4aa603912d4f1b2bcb228f8a80b990fd6541a2063"
 },
 "nbformat": 3,
 "nbformat_minor": 0,
 "worksheets": [
  {
   "cells": [
    {
     "cell_type": "markdown",
     "metadata": {},
     "source": [
      "# Speeding up [Python] code using elementwise computation\n",
      "\n",
      "Standard [Python] is fast enough to satisfy the computational \n",
      "needs of most users. However, some problems require even more \n",
      "rapid computation. One technique for speeding up computational \n",
      "speed is performing calculations `elementwise` using arrays.\n",
      "\n",
      "To illustrate how effective this technique can be, we will use \n",
      "a function to help us compare the computational time of performing \n",
      "the same calculation different ways."
     ]
    },
    {
     "cell_type": "code",
     "collapsed": false,
     "input": [
      "import time\n",
      "\n",
      "def time_it(msg='', verbose=True, start=False):\n",
      "    '''\n",
      "    Used to output the time difference between calls to time_it.\n",
      "    \n",
      "    Parameters\n",
      "    ==========\n",
      "    msg : str (optional)\n",
      "          This message will be printed before the time value in seconds\n",
      "          \n",
      "    verbose: boolean (optional, default=True)\n",
      "             If True, the function will print out the message and time.\n",
      "             \n",
      "    start : boolean\n",
      "            If True, an initial time is stored in a global variable.\n",
      "            \n",
      "    Returns\n",
      "    =======\n",
      "    time_difference : float\n",
      "                      The time difference in seconds as a floating point value.\n",
      "    '''\n",
      "    def _set_start():\n",
      "        global _start_time_for_timing\n",
      "        _start_time_for_timing = time.time() \n",
      "        if verbose and start:\n",
      "            print('Setting initial time to {} seconds past epoch.'.format(_start_time_for_timing))\n",
      "        \n",
      "    if start:\n",
      "        _set_start()\n",
      "        \n",
      "    elif '_start_time_for_timing' in globals():\n",
      "        dt = time.time() - _start_time_for_timing\n",
      "        \n",
      "        if verbose:\n",
      "            print('{} {:.4f} seconds'.format(msg, dt))\n",
      "            \n",
      "        _set_start()\n",
      "        return dt\n",
      "        \n",
      "    else:              \n",
      "        raise UserWarning(\"Start time not set.\")"
     ],
     "language": "python",
     "metadata": {},
     "outputs": [],
     "prompt_number": 1
    },
    {
     "cell_type": "markdown",
     "metadata": {},
     "source": [
      "### Use [NumPy] to perform elementwise calculations\n",
      "\n",
      "The [Python] package [NumPy] is widely used by the [Python] \n",
      "community to perform both elementwise and matrix \n",
      "calculations in [Python]. The [NumPy] package provides an\n",
      "array type, [numpy.ndarray](http://docs.scipy.org/doc/numpy/reference/generated/numpy.ndarray.html), \n",
      "that redefines almost all basic [Python] operations such as `+` and `+=` to work on \n",
      "entire arrays instead of single objects. \n",
      "\n",
      "Now let us see how this can speed up calculation time:"
     ]
    },
    {
     "cell_type": "code",
     "collapsed": false,
     "input": [
      "import numpy as np\n",
      "\n",
      "# Set the array length\n",
      "N = 5000000\n",
      "\n",
      "python_list = [1] * N\n",
      "numpy_array = np.ones(N)\n",
      "\n",
      "print('Add 1 to each element:\\n')\n",
      "\n",
      "time_it(start=True, verbose=False)\n",
      "\n",
      "for index, item in enumerate(python_list):\n",
      "    python_list[index] += 1\n",
      "dtA = time_it('A) Using a Python loop:')\n",
      "\n",
      "python_list = [item + 1 for item in python_list]\n",
      "dtB = time_it('B) Using a Python list comprehension:')\n",
      "\n",
      "python_list = [1] * N\n",
      "python_list = [item + 1 for item in python_list]\n",
      "dtC = time_it('C) Using a Python list comprehension (including list creation):')\n",
      "\n",
      "python_list = list(map(lambda a: a + 1, python_list))\n",
      "dtD = time_it('D) Using Python iterators:')\n",
      "\n",
      "numpy_array = numpy_array + 1\n",
      "dtE = time_it('E) The elementwise way using numpy:')\n",
      "\n",
      "numpy_array = np.ones(N)\n",
      "numpy_array = numpy_array + 1\n",
      "dtF = time_it('F) The elementwise way using numpy (including array creation):')\n",
      "\n",
      "numpy_array += 1\n",
      "dtG = time_it('G) The fancy elementwise way using numpy:')\n",
      "\n",
      "numpy_array = np.ones(N)\n",
      "numpy_array += 1\n",
      "dtH = time_it('H) The fancy elementwise way using numpy (including array creation):')\n",
      "\n",
      "print('\\nConclusion:\\n\\tThe fastest Python method is using a list comprehension: {:.4f} seconds.'.format(dtB))\n",
      "\n",
      "print('\\nConclusion:\\n\\tThe fastest elementwise method is the fancy way (with +=): {:.4f} seconds.'.format(dtG))\n",
      "\n",
      "print('\\nConclusion:\\n\\tThe fastest elementwise approach including array creation is {:.0f} times faster'.format(dtC/dtH) +\\\n",
      "      '\\n\\tthan the fastest native Python approach including list creation.')\n",
      "\n",
      "print('\\nConclusion:\\n\\tThe fastest elementwise approach is {:.0f} times faster'.format(dtB/dtG) +\\\n",
      "      '\\n\\tthan the fastest native Python approach.')\n",
      "\n",
      "print('\\nFinal conclusion:\\n\\tElementwise operations can speed up your code significantly and the speed up' \n",
      "      '\\n\\tis more dramatic if the array object is used for more than one elementwise operation.')"
     ],
     "language": "python",
     "metadata": {},
     "outputs": [
      {
       "output_type": "stream",
       "stream": "stdout",
       "text": [
        "Add 1 to each element:\n",
        "\n",
        "A) Using a Python loop: 1.2347 seconds"
       ]
      },
      {
       "output_type": "stream",
       "stream": "stdout",
       "text": [
        "\n",
        "B) Using a Python list comprehension: 0.3354 seconds"
       ]
      },
      {
       "output_type": "stream",
       "stream": "stdout",
       "text": [
        "\n",
        "C) Using a Python list comprehension (including list creation): 0.3514 seconds"
       ]
      },
      {
       "output_type": "stream",
       "stream": "stdout",
       "text": [
        "\n",
        "D) Using Python iterators: 0.8107 seconds"
       ]
      },
      {
       "output_type": "stream",
       "stream": "stdout",
       "text": [
        "\n",
        "E) The elementwise way using numpy: 0.0313 seconds\n",
        "F) The elementwise way using numpy (including array creation): 0.0528 seconds"
       ]
      },
      {
       "output_type": "stream",
       "stream": "stdout",
       "text": [
        "\n",
        "G) The fancy elementwise way using numpy: 0.0102 seconds\n",
        "H) The fancy elementwise way using numpy (including array creation): 0.0416 seconds"
       ]
      },
      {
       "output_type": "stream",
       "stream": "stdout",
       "text": [
        "\n",
        "\n",
        "Conclusion:\n",
        "\tThe fastest Python method is using a list comprehension: 0.3354 seconds.\n",
        "\n",
        "Conclusion:\n",
        "\tThe fastest elementwise method is the fancy way (with +=): 0.0102 seconds.\n",
        "\n",
        "Conclusion:\n",
        "\tThe fastest elementwise approach including array creation is 8 times faster\n",
        "\tthan the fastest native Python approach including list creation.\n",
        "\n",
        "Conclusion:\n",
        "\tThe fastest elementwise approach is 33 times faster\n",
        "\tthan the fastest native Python approach.\n",
        "\n",
        "Final conclusion:\n",
        "\tElementwise operations can speed up your code significantly and the speed up\n",
        "\tis more dramatic if the array object is used for more than one elementwise operation.\n"
       ]
      }
     ],
     "prompt_number": 2
    },
    {
     "cell_type": "markdown",
     "metadata": {},
     "source": [
      "### A few examples of how one can use elementwise operations\n",
      "\n",
      "These look like normal [Python] expressions, and thereby make your \n",
      "code more readable:"
     ]
    },
    {
     "cell_type": "code",
     "collapsed": false,
     "input": [
      "N = 10\n",
      "\n",
      "print('Make {} spheres with random radii between 0 and 1:\\n'.format(N))\n",
      "radii = np.random.rand(N)\n",
      "volume = 4/3*3.14159*radii**3\n",
      "\n",
      "for v, r in zip(volume, radii):\n",
      "    print('\\tVolume: {:<8.5f} Radii: {:.3f}'.format(v, r))   "
     ],
     "language": "python",
     "metadata": {},
     "outputs": [
      {
       "output_type": "stream",
       "stream": "stdout",
       "text": [
        "Make 10 spheres with random radii between 0 and 1:\n",
        "\n",
        "\tVolume: 3.75505  Radii: 0.964\n",
        "\tVolume: 0.15448  Radii: 0.333\n",
        "\tVolume: 0.16575  Radii: 0.341\n",
        "\tVolume: 2.29283  Radii: 0.818\n",
        "\tVolume: 0.03711  Radii: 0.207\n",
        "\tVolume: 0.63781  Radii: 0.534\n",
        "\tVolume: 2.43708  Radii: 0.835\n",
        "\tVolume: 2.90491  Radii: 0.885\n",
        "\tVolume: 0.01744  Radii: 0.161\n",
        "\tVolume: 1.85815  Radii: 0.763\n"
       ]
      }
     ],
     "prompt_number": 3
    },
    {
     "cell_type": "code",
     "collapsed": false,
     "input": [
      "N = 10\n",
      "\n",
      "print('\\nScale and offset {} random xyz coordinates:\\n'.format(N))\n",
      "random_coords = np.random.rand(N, 3)\n",
      "\n",
      "# Offset all coordinates to span +/- 0.5 of the origin\n",
      "offset_coords = random_coords - 0.5\n",
      "\n",
      "# Scale all coordinates to lie between -1 and +1\n",
      "scale_coords = offset_coords / 0.5\n",
      "\n",
      "line_tmpl = '{:<20}{:<20}{:<20}'\n",
      "coord_tmpl = '({:.2f}, {:.2f}, {:.2f})'\n",
      "\n",
      "print(line_tmpl.format('Random (0 to 1)', 'Offset (-0.5 to 0.5)', 'Scaled (-1 to 1)'))\n",
      "for rc, oc, sc in zip(random_coords, offset_coords, scale_coords):\n",
      "    print(line_tmpl.format(coord_tmpl.format(*rc),              \n",
      "                           coord_tmpl.format(*oc),\n",
      "                           coord_tmpl.format(*sc)))"
     ],
     "language": "python",
     "metadata": {},
     "outputs": [
      {
       "output_type": "stream",
       "stream": "stdout",
       "text": [
        "\n",
        "Scale and offset 10 random xyz coordinates:\n",
        "\n",
        "Random (0 to 1)     Offset (-0.5 to 0.5)Scaled (-1 to 1)    \n",
        "(0.67, 0.89, 0.28)  (0.17, 0.39, -0.22) (0.33, 0.77, -0.44) \n",
        "(0.16, 0.20, 0.38)  (-0.34, -0.30, -0.12)(-0.67, -0.59, -0.24)\n",
        "(0.49, 0.84, 0.20)  (-0.01, 0.34, -0.30)(-0.02, 0.67, -0.60)\n",
        "(0.91, 0.09, 0.88)  (0.41, -0.41, 0.38) (0.82, -0.83, 0.75) \n",
        "(0.94, 0.40, 0.35)  (0.44, -0.10, -0.15)(0.88, -0.20, -0.30)\n",
        "(0.64, 0.23, 0.71)  (0.14, -0.27, 0.21) (0.29, -0.53, 0.41) \n",
        "(0.15, 0.09, 0.50)  (-0.35, -0.41, -0.00)(-0.70, -0.82, -0.01)\n",
        "(0.62, 0.52, 0.61)  (0.12, 0.02, 0.11)  (0.24, 0.04, 0.23)  \n",
        "(0.31, 0.22, 0.06)  (-0.19, -0.28, -0.44)(-0.37, -0.57, -0.88)\n",
        "(0.99, 0.83, 0.89)  (0.49, 0.33, 0.39)  (0.98, 0.66, 0.78)  \n"
       ]
      }
     ],
     "prompt_number": 6
    },
    {
     "cell_type": "markdown",
     "metadata": {},
     "source": [
      "### Now we should look at actual vector operations using coordinates\n",
      "\n",
      "The vector operations below are provided to illustrate the difference \n",
      "between these and the elementwise operations above."
     ]
    },
    {
     "cell_type": "code",
     "collapsed": false,
     "input": [
      "coord_A = np.array([1,2,3])\n",
      "coord_B = np.array([6,5,4])\n",
      "\n",
      "print('Operations on coordinates A{} and B{}:\\n'.format(coord_A, coord_B))\n",
      "\n",
      "print('Dot product: {}'.format(coord_A.dot(coord_B)))\n",
      "print('Distance between points: {:.3f}'.format(np.linalg.norm(coord_A - coord_B)))\n",
      "print('Cross product: {}'.format(np.cross(coord_A, coord_B)))\n",
      "print('Scalar product (elementwise operation): {}'.format(coord_A * coord_B))"
     ],
     "language": "python",
     "metadata": {},
     "outputs": [
      {
       "output_type": "stream",
       "stream": "stdout",
       "text": [
        "Operations on coordinates A[1 2 3] and B[6 5 4]:\n",
        "\n",
        "Dot product: 28\n",
        "Distance between points: 5.916\n",
        "Cross product: [-7 14 -7]\n",
        "Scalar product (elementwise operation): [ 6 10 12]\n"
       ]
      }
     ],
     "prompt_number": 7
    },
    {
     "cell_type": "markdown",
     "metadata": {},
     "source": [
      "### Real world example calculation\n",
      "\n",
      "Lucas, Mia, Leon and Hannah each bought different quantities of three different chocolate varieties. \n",
      "\n",
      "The brand names are A, B and C. \n",
      "\n",
      "Lucas bought 100 g of brand A, 175 g of brand B and 210 of C.\n",
      "Mia choose 90 g of A, 160 g of B and 150 g of C. \n",
      "Leon bought 200 g of A, 50 of B and 100 g of C. \n",
      "Hannah didn't purchase brand B, but did purchase 310 g of C and 120 g of A.\n",
      "\n",
      "A costs 2.98\u20ac per 100 g.\n",
      "B costs 3.90\u20ac per 100 g.\n",
      "C costs 1.99\u20ac per 100 g. \n",
      "\n",
      "To calculate how much each of them paid for their chocolates, we can use [Python], [NumPy] and Matrix multiplication."
     ]
    },
    {
     "cell_type": "code",
     "collapsed": false,
     "input": [
      "import numpy as np\n",
      "\n",
      "# Each column is a chocolate variety and each row is a person.\n",
      "mass_matrix = np.array([[100, 175, 210], \n",
      "                        [90, 160, 150], \n",
      "                        [200, 50, 100], \n",
      "                        [120, 0, 310]])\n",
      "print('Numpy mass_matrix:')\n",
      "print(mass_matrix)\n",
      "print()\n",
      "\n",
      "# The columns are the same chocolate varieties as the mass_matrix.\n",
      "cost_per_100g = np.array([2.98, 3.90, 1.99])\n",
      "print('Numpy cost matrix:')\n",
      "print(cost_per_100g)\n",
      "print()\n",
      "\n",
      "# Matrix calculation using numpy:\n",
      "money_spent_in_cents = np.dot(mass_matrix, cost_per_100g)\n",
      "money_spent_in_euros = money_spent_in_cents / np.array([100] * 4)\n",
      "print('Numpy solution:')\n",
      "print(money_spent_in_euros)\n",
      "print()"
     ],
     "language": "python",
     "metadata": {},
     "outputs": [
      {
       "output_type": "stream",
       "stream": "stdout",
       "text": [
        "Numpy mass_matrix:\n",
        "[[100 175 210]\n",
        " [ 90 160 150]\n",
        " [200  50 100]\n",
        " [120   0 310]]\n",
        "\n",
        "Numpy cost matrix:\n",
        "[ 2.98  3.9   1.99]\n",
        "\n",
        "Numpy solution:\n",
        "[ 13.984  11.907   9.9     9.745]\n",
        "\n"
       ]
      }
     ],
     "prompt_number": 8
    },
    {
     "cell_type": "markdown",
     "metadata": {},
     "source": [
      "### Using [pandas] for the same task\n",
      "\n",
      "To supplement [NumPy] matrix calculation, we can use [pandas] for better visualization of the answer:"
     ]
    },
    {
     "cell_type": "code",
     "collapsed": false,
     "input": [
      "import pandas as pd\n",
      "\n",
      "# Using a pandas.DataFrame object, we can keep track of the names of columns and rows:\n",
      "chocolate_brands = ['A', 'B', 'C']\n",
      "names_of_people = ['Lucas', 'Mia', 'Leon', 'Hannah']\n",
      "\n",
      "# pandas.DataFrame version of mass_matrix:\n",
      "mass_df = pd.DataFrame(mass_matrix, columns=chocolate_brands, index=names_of_people)\n",
      "print('Pandas mass matrix:')\n",
      "print(mass_df)\n",
      "print()\n",
      "\n",
      "# pandas.DataFrame version of cost matrix:\n",
      "cost_df = pd.DataFrame(cost_per_100g, index=chocolate_brands, columns=['Cost in euros per 100g'])\n",
      "print('Pandas cost matrix:')\n",
      "print(cost_df)\n",
      "print()\n",
      "\n",
      "# Matrix calculation using pandas:\n",
      "# NB!: The columns of the left matrix must match the index values of the right matrix.\n",
      "money_spent_df = mass_df.dot(cost_df)\n",
      "money_spent_df.columns = ['Money spent in euro cents']\n",
      "money_spent_df['Money spent in euros'] = money_spent_df['Money spent in euro cents'] / 100\n",
      "\n",
      "print('Pandas solution:')\n",
      "print(money_spent_df)"
     ],
     "language": "python",
     "metadata": {},
     "outputs": [
      {
       "output_type": "stream",
       "stream": "stdout",
       "text": [
        "Pandas mass matrix:\n",
        "          A    B    C\n",
        "Lucas   100  175  210\n",
        "Mia      90  160  150\n",
        "Leon    200   50  100\n",
        "Hannah  120    0  310\n",
        "\n",
        "Pandas cost matrix:\n",
        "   Cost in euros per 100g\n",
        "A                    2.98\n",
        "B                    3.90\n",
        "C                    1.99\n",
        "\n",
        "Pandas solution:\n",
        "        Money spent in euro cents  Money spent in euros\n",
        "Lucas                      1398.4                13.984\n",
        "Mia                        1190.7                11.907\n",
        "Leon                        990.0                 9.900\n",
        "Hannah                      974.5                 9.745\n"
       ]
      }
     ],
     "prompt_number": 9
    },
    {
     "cell_type": "code",
     "collapsed": false,
     "input": [
      "from __future__ import print_function"
     ],
     "language": "python",
     "metadata": {},
     "outputs": [],
     "prompt_number": 19
    },
    {
     "cell_type": "code",
     "collapsed": false,
     "input": [
      "import os"
     ],
     "language": "python",
     "metadata": {},
     "outputs": [],
     "prompt_number": 24
    },
    {
     "cell_type": "code",
     "collapsed": false,
     "input": [
      "os.path.join('hello', 'world', '')"
     ],
     "language": "python",
     "metadata": {},
     "outputs": [
      {
       "metadata": {},
       "output_type": "pyout",
       "prompt_number": 29,
       "text": [
        "'hello/world/'"
       ]
      }
     ],
     "prompt_number": 29
    },
    {
     "cell_type": "code",
     "collapsed": false,
     "input": [],
     "language": "python",
     "metadata": {},
     "outputs": []
    }
   ],
   "metadata": {}
  }
 ]
}