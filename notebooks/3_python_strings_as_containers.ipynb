{
 "metadata": {
  "name": "",
  "signature": "sha256:8d2312631b96a23612f424dbefdc7419b623f14625705972ed1cc9f2b54deaf6"
 },
 "nbformat": 3,
 "nbformat_minor": 0,
 "worksheets": [
  {
   "cells": [
    {
     "cell_type": "markdown",
     "metadata": {},
     "source": [
      "## Python *containers*\n",
      "\n",
      "Python *containers* collect items together in one single collection that can be stored \n",
      "using a single variable name.\n",
      "\n",
      "[Python] containers hold fundamental [Python] types.  One exception are strings which are \n",
      "both a fundamental type and a [Python] collection. \n",
      "\n",
      "### Strings\n",
      "\n",
      "Strings can be made by enclosing text with either single or double quotation characters (') or (\")."
     ]
    },
    {
     "cell_type": "code",
     "collapsed": false,
     "input": [
      "Stan_Ulam_said = \"Whatever is worth saying can be stated in fifty words or less.\"\n",
      "I_say = 'Most ideas can be expressed in fifty Python statements or less.'"
     ],
     "language": "python",
     "metadata": {},
     "outputs": []
    },
    {
     "cell_type": "markdown",
     "metadata": {},
     "source": [
      "#### Line breaks\n",
      "\n",
      "Line breaks can be added to a [Python] string by using a line feed control character (`\\n`)."
     ]
    },
    {
     "cell_type": "code",
     "collapsed": false,
     "input": [
      "John_Tukey_said = 'An approximate answer to the right problem is worth a good deal\\n more than an exact answer to an approximate problem.'"
     ],
     "language": "python",
     "metadata": {},
     "outputs": []
    },
    {
     "cell_type": "markdown",
     "metadata": {},
     "source": [
      "#### Multiline strings \n",
      "\n",
      "Line breaks can also be added using multiline strings. These are made by starting and ending with three quotation characters (`''' text '''`) or (`\"\"\" text \"\"\"`)."
     ]
    },
    {
     "cell_type": "code",
     "collapsed": false,
     "input": [
      "John_Tukey_said = '''\n",
      "\n",
      "An approximate answer to the right problem is worth a good deal \n",
      "more than an exact answer to an approximate problem.\n",
      "\n",
      "'''"
     ],
     "language": "python",
     "metadata": {},
     "outputs": []
    },
    {
     "cell_type": "markdown",
     "metadata": {},
     "source": [
      "#### Triple quotes can be used to make strings that contain quote characters:"
     ]
    },
    {
     "cell_type": "code",
     "collapsed": false,
     "input": [
      "Even_though_the_student_knew_the_problem_was_ill_poised = ''',\n",
      "\n",
      "the professor strongly advised: \n",
      "\n",
      "\"Do the calculation!\".'''"
     ],
     "language": "python",
     "metadata": {},
     "outputs": []
    },
    {
     "cell_type": "markdown",
     "metadata": {},
     "source": [
      "## Using Containers in Python\n",
      "\n",
      "Containers allow us to perform useful operations on collections of types."
     ]
    },
    {
     "cell_type": "markdown",
     "metadata": {},
     "source": [
      "### Using the word `in` to test is something is *in*side a container.\n",
      "\n",
      "`True` if an item is contained in a container object, otherwise `False`.  "
     ]
    },
    {
     "cell_type": "code",
     "collapsed": false,
     "input": [
      "'fifty' in Stan_Ulam_said"
     ],
     "language": "python",
     "metadata": {},
     "outputs": []
    },
    {
     "cell_type": "markdown",
     "metadata": {},
     "source": [
      "The `not` keyword can be used to test the opposite (The substring '50' is `not` in this `str` object): "
     ]
    },
    {
     "cell_type": "code",
     "collapsed": false,
     "input": [
      "'50' not in Stan_Ulam_said"
     ],
     "language": "python",
     "metadata": {},
     "outputs": []
    },
    {
     "cell_type": "markdown",
     "metadata": {},
     "source": [
      "### Elements of *list-like* containers (like strings) can be accessed by index (starting at `0`):"
     ]
    },
    {
     "cell_type": "code",
     "collapsed": false,
     "input": [
      "I_say[0]"
     ],
     "language": "python",
     "metadata": {},
     "outputs": []
    },
    {
     "cell_type": "markdown",
     "metadata": {},
     "source": [
      "### Multiple elements can be accessed at once by slicing:"
     ]
    },
    {
     "cell_type": "code",
     "collapsed": false,
     "input": [
      "I_say[0:4]"
     ],
     "language": "python",
     "metadata": {},
     "outputs": []
    },
    {
     "cell_type": "markdown",
     "metadata": {},
     "source": [
      "Leaving out one of these indicies means **to the beginning** or **to the end**:"
     ]
    },
    {
     "cell_type": "code",
     "collapsed": false,
     "input": [
      "I_say[:4]"
     ],
     "language": "python",
     "metadata": {},
     "outputs": []
    },
    {
     "cell_type": "code",
     "collapsed": false,
     "input": [
      "I_say[5:]"
     ],
     "language": "python",
     "metadata": {},
     "outputs": []
    },
    {
     "cell_type": "markdown",
     "metadata": {},
     "source": [
      "### Negative index values mean **number of index values from the end** \n",
      "\n",
      "An index of `-1` means the last item in the *list-like*"
     ]
    },
    {
     "cell_type": "code",
     "collapsed": false,
     "input": [
      "I_say[-1]"
     ],
     "language": "python",
     "metadata": {},
     "outputs": []
    },
    {
     "cell_type": "markdown",
     "metadata": {},
     "source": [
      "### Slicing also works with negative indicies:\n",
      "\n",
      "The following means take the slice starting **five index values from the end** (`-5`) and slice **to the end** (`:`)"
     ]
    },
    {
     "cell_type": "code",
     "collapsed": false,
     "input": [
      "I_say[-5:]"
     ],
     "language": "python",
     "metadata": {},
     "outputs": []
    },
    {
     "cell_type": "markdown",
     "metadata": {},
     "source": [
      "### You can also skip elements in regular steps when slicing \n",
      "\n",
      "In the following cases we slice in steps of `2`."
     ]
    },
    {
     "cell_type": "code",
     "collapsed": false,
     "input": [
      "I_say[5:16:2]"
     ],
     "language": "python",
     "metadata": {},
     "outputs": []
    },
    {
     "cell_type": "code",
     "collapsed": false,
     "input": [
      "I_say[::2]"
     ],
     "language": "python",
     "metadata": {},
     "outputs": []
    },
    {
     "cell_type": "markdown",
     "metadata": {},
     "source": [
      "### The number of items in a container is its length: "
     ]
    },
    {
     "cell_type": "code",
     "collapsed": false,
     "input": [
      "len(I_say)"
     ],
     "language": "python",
     "metadata": {},
     "outputs": []
    },
    {
     "cell_type": "markdown",
     "metadata": {},
     "source": [
      "This is the same as calling the hidden function inside containers `__len__`, but this is rarely used directly."
     ]
    },
    {
     "cell_type": "code",
     "collapsed": false,
     "input": [
      "I_say.__len__()"
     ],
     "language": "python",
     "metadata": {},
     "outputs": []
    },
    {
     "cell_type": "markdown",
     "metadata": {},
     "source": [
      "### The smallest and largest items in a container are found using `min` and `max`\n",
      "\n",
      "However, this is not often useful for strings."
     ]
    },
    {
     "cell_type": "code",
     "collapsed": false,
     "input": [
      "min(I_say), max(I_say)"
     ],
     "language": "python",
     "metadata": {},
     "outputs": []
    },
    {
     "cell_type": "markdown",
     "metadata": {},
     "source": [
      "### Use the `.index` function to find the index of the first occurance of something in a container:"
     ]
    },
    {
     "cell_type": "code",
     "collapsed": false,
     "input": [
      "I_say.index('fifty')"
     ],
     "language": "python",
     "metadata": {},
     "outputs": []
    },
    {
     "cell_type": "code",
     "collapsed": false,
     "input": [
      "Stan_Ulam_said.index('fifty')"
     ],
     "language": "python",
     "metadata": {},
     "outputs": []
    },
    {
     "cell_type": "markdown",
     "metadata": {},
     "source": [
      "This proves that I said `fifty` first...\n",
      "\n",
      "### Use the `.count` function to find the number of times an object occurs in a container:"
     ]
    },
    {
     "cell_type": "code",
     "collapsed": false,
     "input": [
      "John_Tukey_said.count('approximate')"
     ],
     "language": "python",
     "metadata": {},
     "outputs": []
    },
    {
     "cell_type": "markdown",
     "metadata": {},
     "source": [
      "## Exercise:  Try to use all of the properties and functions contained in string types.\n",
      "\n",
      "Hint: These are accessed using the dot notation.  Try typing a variable name like `I_say` followed by a dot, and then hitting the `Tab` key. (i.e. `I_say.` followed by one or more `Tab` keystrokes).  Try using the build-in [Python] help function. (i.e. `help(I_say)`)"
     ]
    }
   ],
   "metadata": {}
  }
 ]
}